{
 "cells": [
  {
   "cell_type": "markdown",
   "metadata": {},
   "source": [
    "# Python preprocessing"
   ]
  },
  {
   "cell_type": "markdown",
   "metadata": {},
   "source": [
    "-----------------------------------------------------------------"
   ]
  },
  {
   "cell_type": "markdown",
   "metadata": {},
   "source": [
    "# Prepocessing for sleep data"
   ]
  },
  {
   "cell_type": "code",
   "execution_count": 110,
   "metadata": {},
   "outputs": [],
   "source": [
    "# import the library\n",
    "import pandas as pd \n",
    "import numpy as np\n",
    "import seaborn as sns\n",
    "import matplotlib.pyplot as plt\n",
    "sns.set_theme(style=\"dark\")\n",
    "import datetime\n"
   ]
  },
  {
   "cell_type": "code",
   "execution_count": 111,
   "metadata": {},
   "outputs": [],
   "source": [
    "# import the data\n",
    "SLEEP_PATH = \"data/sleep/sleep-export.csv\"\n",
    "sleep =pd.read_csv(SLEEP_PATH,header=0,usecols=[1,2,3,5,11,12])"
   ]
  },
  {
   "cell_type": "code",
   "execution_count": 112,
   "metadata": {},
   "outputs": [
    {
     "data": {
      "text/html": [
       "<div>\n",
       "<style scoped>\n",
       "    .dataframe tbody tr th:only-of-type {\n",
       "        vertical-align: middle;\n",
       "    }\n",
       "\n",
       "    .dataframe tbody tr th {\n",
       "        vertical-align: top;\n",
       "    }\n",
       "\n",
       "    .dataframe thead th {\n",
       "        text-align: right;\n",
       "    }\n",
       "</style>\n",
       "<table border=\"1\" class=\"dataframe\">\n",
       "  <thead>\n",
       "    <tr style=\"text-align: right;\">\n",
       "      <th></th>\n",
       "      <th>Tz</th>\n",
       "      <th>From</th>\n",
       "      <th>To</th>\n",
       "      <th>Hours</th>\n",
       "      <th>Cycles</th>\n",
       "      <th>DeepSleep</th>\n",
       "    </tr>\n",
       "  </thead>\n",
       "  <tbody>\n",
       "    <tr>\n",
       "      <th>0</th>\n",
       "      <td>Europe/Bucharest</td>\n",
       "      <td>30. 03. 2021 2:33</td>\n",
       "      <td>30. 03. 2021 9:23</td>\n",
       "      <td>6.830</td>\n",
       "      <td>12</td>\n",
       "      <td>0.56626505</td>\n",
       "    </tr>\n",
       "    <tr>\n",
       "      <th>1</th>\n",
       "      <td>NaN</td>\n",
       "      <td>NaN</td>\n",
       "      <td>NaN</td>\n",
       "      <td>NaN</td>\n",
       "      <td>NaN</td>\n",
       "      <td>NaN</td>\n",
       "    </tr>\n",
       "    <tr>\n",
       "      <th>2</th>\n",
       "      <td>Tz</td>\n",
       "      <td>From</td>\n",
       "      <td>To</td>\n",
       "      <td>Hours</td>\n",
       "      <td>Cycles</td>\n",
       "      <td>DeepSleep</td>\n",
       "    </tr>\n",
       "  </tbody>\n",
       "</table>\n",
       "</div>"
      ],
      "text/plain": [
       "                 Tz               From                 To  Hours  Cycles  \\\n",
       "0  Europe/Bucharest  30. 03. 2021 2:33  30. 03. 2021 9:23  6.830      12   \n",
       "1               NaN                NaN                NaN    NaN     NaN   \n",
       "2                Tz               From                 To  Hours  Cycles   \n",
       "\n",
       "    DeepSleep  \n",
       "0  0.56626505  \n",
       "1         NaN  \n",
       "2   DeepSleep  "
      ]
     },
     "execution_count": 112,
     "metadata": {},
     "output_type": "execute_result"
    }
   ],
   "source": [
    "sleep.head(3)"
   ]
  },
  {
   "cell_type": "code",
   "execution_count": 113,
   "metadata": {},
   "outputs": [],
   "source": [
    "#suppress the header of the rows\n",
    "#mask 1\n",
    "mask1=sleep[sleep[\"Tz\"]!=\"Tz\"]\n",
    "#mask 2\n",
    "sleep_df = mask1[~mask1[\"Tz\"].isna()]"
   ]
  },
  {
   "cell_type": "code",
   "execution_count": 114,
   "metadata": {},
   "outputs": [
    {
     "data": {
      "text/html": [
       "<div>\n",
       "<style scoped>\n",
       "    .dataframe tbody tr th:only-of-type {\n",
       "        vertical-align: middle;\n",
       "    }\n",
       "\n",
       "    .dataframe tbody tr th {\n",
       "        vertical-align: top;\n",
       "    }\n",
       "\n",
       "    .dataframe thead th {\n",
       "        text-align: right;\n",
       "    }\n",
       "</style>\n",
       "<table border=\"1\" class=\"dataframe\">\n",
       "  <thead>\n",
       "    <tr style=\"text-align: right;\">\n",
       "      <th></th>\n",
       "      <th>Tz</th>\n",
       "      <th>From</th>\n",
       "      <th>To</th>\n",
       "      <th>Hours</th>\n",
       "      <th>Cycles</th>\n",
       "      <th>DeepSleep</th>\n",
       "    </tr>\n",
       "  </thead>\n",
       "  <tbody>\n",
       "    <tr>\n",
       "      <th>0</th>\n",
       "      <td>Europe/Bucharest</td>\n",
       "      <td>30. 03. 2021 2:33</td>\n",
       "      <td>30. 03. 2021 9:23</td>\n",
       "      <td>6.830</td>\n",
       "      <td>12</td>\n",
       "      <td>0.56626505</td>\n",
       "    </tr>\n",
       "    <tr>\n",
       "      <th>3</th>\n",
       "      <td>Etc/GMT-3</td>\n",
       "      <td>30. 03. 2021 0:30</td>\n",
       "      <td>30. 03. 2021 2:12</td>\n",
       "      <td>1.700</td>\n",
       "      <td>0</td>\n",
       "      <td>0.060240965</td>\n",
       "    </tr>\n",
       "    <tr>\n",
       "      <th>5</th>\n",
       "      <td>Europe/Bucharest</td>\n",
       "      <td>29. 03. 2021 0:33</td>\n",
       "      <td>29. 03. 2021 9:05</td>\n",
       "      <td>8.540</td>\n",
       "      <td>14</td>\n",
       "      <td>0.5825243</td>\n",
       "    </tr>\n",
       "  </tbody>\n",
       "</table>\n",
       "</div>"
      ],
      "text/plain": [
       "                 Tz               From                 To  Hours Cycles  \\\n",
       "0  Europe/Bucharest  30. 03. 2021 2:33  30. 03. 2021 9:23  6.830     12   \n",
       "3         Etc/GMT-3  30. 03. 2021 0:30  30. 03. 2021 2:12  1.700      0   \n",
       "5  Europe/Bucharest  29. 03. 2021 0:33  29. 03. 2021 9:05  8.540     14   \n",
       "\n",
       "     DeepSleep  \n",
       "0   0.56626505  \n",
       "3  0.060240965  \n",
       "5    0.5825243  "
      ]
     },
     "execution_count": 114,
     "metadata": {},
     "output_type": "execute_result"
    }
   ],
   "source": [
    "sleep_df.head(3)"
   ]
  },
  {
   "cell_type": "code",
   "execution_count": 115,
   "metadata": {},
   "outputs": [
    {
     "name": "stderr",
     "output_type": "stream",
     "text": [
      "<ipython-input-115-c5bd1cc1a124>:2: SettingWithCopyWarning: \n",
      "A value is trying to be set on a copy of a slice from a DataFrame.\n",
      "Try using .loc[row_indexer,col_indexer] = value instead\n",
      "\n",
      "See the caveats in the documentation: https://pandas.pydata.org/pandas-docs/stable/user_guide/indexing.html#returning-a-view-versus-a-copy\n",
      "  sleep_df[\"bed_date\"]=pd.to_datetime(sleep_df[\"From\"],format=\"%d. %m. %Y %H:%M\").dt.date\n",
      "<ipython-input-115-c5bd1cc1a124>:3: SettingWithCopyWarning: \n",
      "A value is trying to be set on a copy of a slice from a DataFrame.\n",
      "Try using .loc[row_indexer,col_indexer] = value instead\n",
      "\n",
      "See the caveats in the documentation: https://pandas.pydata.org/pandas-docs/stable/user_guide/indexing.html#returning-a-view-versus-a-copy\n",
      "  sleep_df[\"bed_time\"]=pd.to_datetime(sleep_df[\"From\"],format=\"%d. %m. %Y %H:%M\").dt.time\n",
      "<ipython-input-115-c5bd1cc1a124>:4: SettingWithCopyWarning: \n",
      "A value is trying to be set on a copy of a slice from a DataFrame.\n",
      "Try using .loc[row_indexer,col_indexer] = value instead\n",
      "\n",
      "See the caveats in the documentation: https://pandas.pydata.org/pandas-docs/stable/user_guide/indexing.html#returning-a-view-versus-a-copy\n",
      "  sleep_df[\"waking_up_date\"]=pd.to_datetime(sleep_df[\"To\"],format=\"%d. %m. %Y %H:%M\").dt.date\n",
      "<ipython-input-115-c5bd1cc1a124>:5: SettingWithCopyWarning: \n",
      "A value is trying to be set on a copy of a slice from a DataFrame.\n",
      "Try using .loc[row_indexer,col_indexer] = value instead\n",
      "\n",
      "See the caveats in the documentation: https://pandas.pydata.org/pandas-docs/stable/user_guide/indexing.html#returning-a-view-versus-a-copy\n",
      "  sleep_df[\"waking_up_time\"]=pd.to_datetime(sleep_df[\"To\"],format=\"%d. %m. %Y %H:%M\").dt.time\n"
     ]
    }
   ],
   "source": [
    "#  get into time format\n",
    "sleep_df[\"bed_date\"]=pd.to_datetime(sleep_df[\"From\"],format=\"%d. %m. %Y %H:%M\").dt.date\n",
    "sleep_df[\"bed_time\"]=pd.to_datetime(sleep_df[\"From\"],format=\"%d. %m. %Y %H:%M\").dt.time\n",
    "sleep_df[\"waking_up_date\"]=pd.to_datetime(sleep_df[\"To\"],format=\"%d. %m. %Y %H:%M\").dt.date\n",
    "sleep_df[\"waking_up_time\"]=pd.to_datetime(sleep_df[\"To\"],format=\"%d. %m. %Y %H:%M\").dt.time"
   ]
  },
  {
   "cell_type": "code",
   "execution_count": 116,
   "metadata": {},
   "outputs": [],
   "source": [
    "# drop the column From and To\n",
    "sleep_df=sleep_df.drop(columns=[\"From\",\"To\"],axis=1)"
   ]
  },
  {
   "cell_type": "code",
   "execution_count": 117,
   "metadata": {},
   "outputs": [],
   "source": [
    "#reset index and drop them \n",
    "sleep_df=sleep_df.reset_index().drop([\"index\"],axis=1)"
   ]
  },
  {
   "cell_type": "code",
   "execution_count": 118,
   "metadata": {},
   "outputs": [],
   "source": [
    "# we take the day were we wake up always the same because problem with the days were we slept after 00:00 and then we assume \n",
    "# that the day of the activity will be the day before the day we wake up (Note that we will not consider small Cylcle sleep as nap.)\n",
    "\n",
    "sleep_df[\"Activity date\"]=sleep_df[\"waking_up_date\"]-datetime.timedelta(days=1)"
   ]
  },
  {
   "cell_type": "code",
   "execution_count": 119,
   "metadata": {},
   "outputs": [],
   "source": [
    "# hypothesis we didn't take into count too small number of cycle because it can be see as nap or misleading datas\n",
    "\n",
    "cycle0 = sleep_df.loc[sleep_df[\"Cycles\"]=='0']\n",
    "sleep_df2=sleep_df.drop(cycle0.index)\n",
    "cycle1 = sleep_df2.loc[sleep_df[\"Cycles\"]=='1']\n",
    "sleep_df2=sleep_df2.drop(cycle1.index)\n",
    "cycle_1 = sleep_df2.loc[sleep_df2[\"Cycles\"]=='-1']\n",
    "sleep_df2=sleep_df2.drop(cycle_1.index)\n",
    "\n",
    "# string to float\n",
    "\n",
    "sleep_df2['Hours']=sleep_df2['Hours'].astype(float)\n",
    "sleep_df2['Cycles']=sleep_df2['Cycles'].astype(float)\n",
    "sleep_df2['DeepSleep']=sleep_df2['DeepSleep'].astype(float)\n",
    "\n"
   ]
  },
  {
   "cell_type": "markdown",
   "metadata": {},
   "source": [
    "# Preprocessing for activity data"
   ]
  },
  {
   "cell_type": "code",
   "execution_count": 120,
   "metadata": {},
   "outputs": [],
   "source": [
    "#load activity as one table\n",
    "\n",
    "activities = pd.read_csv(\"data/strava/activities_with_gpx.csv\",usecols=['Activity Date', 'Activity Name', 'Activity Type', 'Distance', 'Relative Effort', 'Average Heart Rate', \n",
    "     'Calories','Filename','Average Speed'])\n",
    "\n",
    "# set the format \n",
    "\n",
    "activities[\"Activity date\"]=pd.to_datetime(activities[\"Activity Date\"],dayfirst=True).dt.date\n",
    "activities[\"Activity time\"]=pd.to_datetime(activities[\"Activity Date\"],dayfirst=True).dt.time\n",
    "\n",
    "# drop the initial string date\n",
    "\n",
    "activities=activities.drop(columns=[\"Activity Date\"],axis=1)"
   ]
  },
  {
   "cell_type": "code",
   "execution_count": 121,
   "metadata": {},
   "outputs": [
    {
     "name": "stdout",
     "output_type": "stream",
     "text": [
      "(228, 2)\n"
     ]
    }
   ],
   "source": [
    "# As we can have done more activity I use this line of code to take in count only 1 activity by days \n",
    "\n",
    "number_activity_day=activities.groupby([\"Activity date\"]).count().rename({\"Activity Name\": \"num_activity\"},axis=1).reset_index().iloc[:,:2]\n",
    "print(number_activity_day.shape)"
   ]
  },
  {
   "cell_type": "code",
   "execution_count": 122,
   "metadata": {},
   "outputs": [
    {
     "data": {
      "text/html": [
       "<div>\n",
       "<style scoped>\n",
       "    .dataframe tbody tr th:only-of-type {\n",
       "        vertical-align: middle;\n",
       "    }\n",
       "\n",
       "    .dataframe tbody tr th {\n",
       "        vertical-align: top;\n",
       "    }\n",
       "\n",
       "    .dataframe thead th {\n",
       "        text-align: right;\n",
       "    }\n",
       "</style>\n",
       "<table border=\"1\" class=\"dataframe\">\n",
       "  <thead>\n",
       "    <tr style=\"text-align: right;\">\n",
       "      <th></th>\n",
       "      <th>Activity Name</th>\n",
       "      <th>Activity Type</th>\n",
       "      <th>Distance</th>\n",
       "      <th>Relative Effort</th>\n",
       "      <th>Filename</th>\n",
       "      <th>Average Speed</th>\n",
       "      <th>Average Heart Rate</th>\n",
       "      <th>Calories</th>\n",
       "      <th>Activity date</th>\n",
       "      <th>Activity time</th>\n",
       "    </tr>\n",
       "  </thead>\n",
       "  <tbody>\n",
       "    <tr>\n",
       "      <th>0</th>\n",
       "      <td>Hilton Garden Inn Cupertino - Aloha Mobile Vil...</td>\n",
       "      <td>Run</td>\n",
       "      <td>5.68</td>\n",
       "      <td>102.0</td>\n",
       "      <td>activities/3823237250.fit.gz</td>\n",
       "      <td>2.986698</td>\n",
       "      <td>172.234955</td>\n",
       "      <td>425.0</td>\n",
       "      <td>2020-06-06</td>\n",
       "      <td>00:18:52</td>\n",
       "    </tr>\n",
       "    <tr>\n",
       "      <th>1</th>\n",
       "      <td>Hilton Garden Inn Cupertino - Aloha Mobile Vil...</td>\n",
       "      <td>Run</td>\n",
       "      <td>5.78</td>\n",
       "      <td>95.0</td>\n",
       "      <td>activities/3823237266.fit.gz</td>\n",
       "      <td>2.528903</td>\n",
       "      <td>165.807648</td>\n",
       "      <td>439.0</td>\n",
       "      <td>2020-06-03</td>\n",
       "      <td>14:10:57</td>\n",
       "    </tr>\n",
       "    <tr>\n",
       "      <th>2</th>\n",
       "      <td>Hilton Garden Inn Cupertino - Aloha Mobile Vil...</td>\n",
       "      <td>Run</td>\n",
       "      <td>5.37</td>\n",
       "      <td>106.0</td>\n",
       "      <td>activities/3823237279.fit.gz</td>\n",
       "      <td>2.929553</td>\n",
       "      <td>174.295471</td>\n",
       "      <td>418.0</td>\n",
       "      <td>2020-06-03</td>\n",
       "      <td>03:07:39</td>\n",
       "    </tr>\n",
       "  </tbody>\n",
       "</table>\n",
       "</div>"
      ],
      "text/plain": [
       "                                       Activity Name Activity Type Distance  \\\n",
       "0  Hilton Garden Inn Cupertino - Aloha Mobile Vil...           Run     5.68   \n",
       "1  Hilton Garden Inn Cupertino - Aloha Mobile Vil...           Run     5.78   \n",
       "2  Hilton Garden Inn Cupertino - Aloha Mobile Vil...           Run     5.37   \n",
       "\n",
       "   Relative Effort                      Filename  Average Speed  \\\n",
       "0            102.0  activities/3823237250.fit.gz       2.986698   \n",
       "1             95.0  activities/3823237266.fit.gz       2.528903   \n",
       "2            106.0  activities/3823237279.fit.gz       2.929553   \n",
       "\n",
       "   Average Heart Rate  Calories Activity date Activity time  \n",
       "0          172.234955     425.0    2020-06-06      00:18:52  \n",
       "1          165.807648     439.0    2020-06-03      14:10:57  \n",
       "2          174.295471     418.0    2020-06-03      03:07:39  "
      ]
     },
     "execution_count": 122,
     "metadata": {},
     "output_type": "execute_result"
    }
   ],
   "source": [
    "activities.head(3)"
   ]
  },
  {
   "cell_type": "code",
   "execution_count": 123,
   "metadata": {},
   "outputs": [
    {
     "data": {
      "text/plain": [
       "(77, 10)"
      ]
     },
     "execution_count": 123,
     "metadata": {},
     "output_type": "execute_result"
    }
   ],
   "source": [
    "# merge both data set sleep and activity \n",
    "\n",
    "sport_sleep_df=number_activity_day.merge(sleep_df2,on=['Activity date'])\n",
    "sport_sleep_df.shape"
   ]
  },
  {
   "cell_type": "code",
   "execution_count": 124,
   "metadata": {},
   "outputs": [],
   "source": [
    "# drop a few columns\n",
    "\n",
    "sport_sleep_df[\"num_activity\"]=sport_sleep_df[\"num_activity\"].astype(float)\n",
    "sport_sleep_df=sport_sleep_df.drop(['waking_up_time','waking_up_date','bed_time','bed_date','Tz','num_activity'],axis=1)"
   ]
  },
  {
   "cell_type": "code",
   "execution_count": 125,
   "metadata": {},
   "outputs": [],
   "source": [
    "# set a new columns with only ones which means that a activity was made during this day \n",
    "\n",
    "df_new_column = pd.DataFrame(np.ones(77), columns=['activity'] )\n",
    "sport_sleep_df = pd.concat([sport_sleep_df,df_new_column], axis=1)"
   ]
  },
  {
   "cell_type": "code",
   "execution_count": 126,
   "metadata": {},
   "outputs": [
    {
     "name": "stdout",
     "output_type": "stream",
     "text": [
      "(77, 5)\n"
     ]
    },
    {
     "data": {
      "text/html": [
       "<div>\n",
       "<style scoped>\n",
       "    .dataframe tbody tr th:only-of-type {\n",
       "        vertical-align: middle;\n",
       "    }\n",
       "\n",
       "    .dataframe tbody tr th {\n",
       "        vertical-align: top;\n",
       "    }\n",
       "\n",
       "    .dataframe thead th {\n",
       "        text-align: right;\n",
       "    }\n",
       "</style>\n",
       "<table border=\"1\" class=\"dataframe\">\n",
       "  <thead>\n",
       "    <tr style=\"text-align: right;\">\n",
       "      <th></th>\n",
       "      <th>Activity date</th>\n",
       "      <th>Hours</th>\n",
       "      <th>Cycles</th>\n",
       "      <th>DeepSleep</th>\n",
       "      <th>activity</th>\n",
       "    </tr>\n",
       "  </thead>\n",
       "  <tbody>\n",
       "    <tr>\n",
       "      <th>0</th>\n",
       "      <td>2020-11-30</td>\n",
       "      <td>5.00</td>\n",
       "      <td>2.0</td>\n",
       "      <td>0.375451</td>\n",
       "      <td>1.0</td>\n",
       "    </tr>\n",
       "    <tr>\n",
       "      <th>1</th>\n",
       "      <td>2020-12-01</td>\n",
       "      <td>8.33</td>\n",
       "      <td>15.0</td>\n",
       "      <td>0.465347</td>\n",
       "      <td>1.0</td>\n",
       "    </tr>\n",
       "    <tr>\n",
       "      <th>2</th>\n",
       "      <td>2020-12-02</td>\n",
       "      <td>8.16</td>\n",
       "      <td>13.0</td>\n",
       "      <td>0.515151</td>\n",
       "      <td>1.0</td>\n",
       "    </tr>\n",
       "  </tbody>\n",
       "</table>\n",
       "</div>"
      ],
      "text/plain": [
       "  Activity date  Hours  Cycles  DeepSleep  activity\n",
       "0    2020-11-30   5.00     2.0   0.375451       1.0\n",
       "1    2020-12-01   8.33    15.0   0.465347       1.0\n",
       "2    2020-12-02   8.16    13.0   0.515151       1.0"
      ]
     },
     "execution_count": 126,
     "metadata": {},
     "output_type": "execute_result"
    }
   ],
   "source": [
    "print(sport_sleep_df.shape)\n",
    "sport_sleep_df.head(3)"
   ]
  },
  {
   "cell_type": "code",
   "execution_count": 127,
   "metadata": {},
   "outputs": [
    {
     "data": {
      "text/plain": [
       "(43, 5)"
      ]
     },
     "execution_count": 127,
     "metadata": {},
     "output_type": "execute_result"
    }
   ],
   "source": [
    "# for comparing on the same number of night we take a samples of the night\n",
    "\n",
    "sport_sleep_df_43_night=sport_sleep_df.sample(43)\n",
    "sport_sleep_df_43_night.shape"
   ]
  },
  {
   "cell_type": "code",
   "execution_count": 128,
   "metadata": {},
   "outputs": [
    {
     "data": {
      "text/html": [
       "<div>\n",
       "<style scoped>\n",
       "    .dataframe tbody tr th:only-of-type {\n",
       "        vertical-align: middle;\n",
       "    }\n",
       "\n",
       "    .dataframe tbody tr th {\n",
       "        vertical-align: top;\n",
       "    }\n",
       "\n",
       "    .dataframe thead th {\n",
       "        text-align: right;\n",
       "    }\n",
       "</style>\n",
       "<table border=\"1\" class=\"dataframe\">\n",
       "  <thead>\n",
       "    <tr style=\"text-align: right;\">\n",
       "      <th></th>\n",
       "      <th>Activity date</th>\n",
       "      <th>Hours</th>\n",
       "      <th>Cycles</th>\n",
       "      <th>DeepSleep</th>\n",
       "      <th>activity</th>\n",
       "    </tr>\n",
       "  </thead>\n",
       "  <tbody>\n",
       "    <tr>\n",
       "      <th>76</th>\n",
       "      <td>2021-03-23</td>\n",
       "      <td>8.18</td>\n",
       "      <td>3.0</td>\n",
       "      <td>0.321168</td>\n",
       "      <td>1.0</td>\n",
       "    </tr>\n",
       "    <tr>\n",
       "      <th>23</th>\n",
       "      <td>2020-12-26</td>\n",
       "      <td>8.20</td>\n",
       "      <td>13.0</td>\n",
       "      <td>0.565657</td>\n",
       "      <td>1.0</td>\n",
       "    </tr>\n",
       "    <tr>\n",
       "      <th>57</th>\n",
       "      <td>2021-02-07</td>\n",
       "      <td>8.86</td>\n",
       "      <td>16.0</td>\n",
       "      <td>0.542056</td>\n",
       "      <td>1.0</td>\n",
       "    </tr>\n",
       "  </tbody>\n",
       "</table>\n",
       "</div>"
      ],
      "text/plain": [
       "   Activity date  Hours  Cycles  DeepSleep  activity\n",
       "76    2021-03-23   8.18     3.0   0.321168       1.0\n",
       "23    2020-12-26   8.20    13.0   0.565657       1.0\n",
       "57    2021-02-07   8.86    16.0   0.542056       1.0"
      ]
     },
     "execution_count": 128,
     "metadata": {},
     "output_type": "execute_result"
    }
   ],
   "source": [
    "sport_sleep_df_43_night.head(3)"
   ]
  },
  {
   "cell_type": "code",
   "execution_count": 129,
   "metadata": {},
   "outputs": [],
   "source": [
    "# take all the day with an activity\n",
    "day_with_activity=sport_sleep_df[\"Activity date\"].unique()\n",
    "\n",
    "# get the day without activity \n",
    "no_sport_sleep_df=sleep_df2.loc[~sleep_df2['Activity date'].isin(day_with_activity)]\n",
    "no_sport_sleep_df=no_sport_sleep_df.drop(['waking_up_time','waking_up_date','bed_time','bed_date','Tz'],axis=1)"
   ]
  },
  {
   "cell_type": "code",
   "execution_count": 130,
   "metadata": {},
   "outputs": [
    {
     "data": {
      "text/html": [
       "<div>\n",
       "<style scoped>\n",
       "    .dataframe tbody tr th:only-of-type {\n",
       "        vertical-align: middle;\n",
       "    }\n",
       "\n",
       "    .dataframe tbody tr th {\n",
       "        vertical-align: top;\n",
       "    }\n",
       "\n",
       "    .dataframe thead th {\n",
       "        text-align: right;\n",
       "    }\n",
       "</style>\n",
       "<table border=\"1\" class=\"dataframe\">\n",
       "  <thead>\n",
       "    <tr style=\"text-align: right;\">\n",
       "      <th></th>\n",
       "      <th>Hours</th>\n",
       "      <th>Cycles</th>\n",
       "      <th>DeepSleep</th>\n",
       "      <th>Activity date</th>\n",
       "    </tr>\n",
       "  </thead>\n",
       "  <tbody>\n",
       "    <tr>\n",
       "      <th>0</th>\n",
       "      <td>6.83</td>\n",
       "      <td>12.0</td>\n",
       "      <td>0.566265</td>\n",
       "      <td>2021-03-29</td>\n",
       "    </tr>\n",
       "    <tr>\n",
       "      <th>2</th>\n",
       "      <td>8.54</td>\n",
       "      <td>14.0</td>\n",
       "      <td>0.582524</td>\n",
       "      <td>2021-03-28</td>\n",
       "    </tr>\n",
       "    <tr>\n",
       "      <th>3</th>\n",
       "      <td>7.19</td>\n",
       "      <td>15.0</td>\n",
       "      <td>0.627907</td>\n",
       "      <td>2021-03-27</td>\n",
       "    </tr>\n",
       "  </tbody>\n",
       "</table>\n",
       "</div>"
      ],
      "text/plain": [
       "   Hours  Cycles  DeepSleep Activity date\n",
       "0   6.83    12.0   0.566265    2021-03-29\n",
       "2   8.54    14.0   0.582524    2021-03-28\n",
       "3   7.19    15.0   0.627907    2021-03-27"
      ]
     },
     "execution_count": 130,
     "metadata": {},
     "output_type": "execute_result"
    }
   ],
   "source": [
    "no_sport_sleep_df.head(3)"
   ]
  },
  {
   "cell_type": "code",
   "execution_count": 131,
   "metadata": {},
   "outputs": [],
   "source": [
    "# drop the index \n",
    "no_sport_sleep_df=no_sport_sleep_df.reset_index().drop(['index'],axis=1)"
   ]
  },
  {
   "cell_type": "code",
   "execution_count": 132,
   "metadata": {},
   "outputs": [],
   "source": [
    "#same as before but now a columns with only zeros as no activity was made \n",
    "\n",
    "df_new_column = pd.DataFrame(np.zeros(43), columns=['activity'] )\n",
    "no_sport_sleep_df = pd.concat([no_sport_sleep_df,df_new_column], axis=1)"
   ]
  },
  {
   "cell_type": "code",
   "execution_count": 133,
   "metadata": {},
   "outputs": [
    {
     "name": "stdout",
     "output_type": "stream",
     "text": [
      "(43, 5)\n"
     ]
    },
    {
     "data": {
      "text/html": [
       "<div>\n",
       "<style scoped>\n",
       "    .dataframe tbody tr th:only-of-type {\n",
       "        vertical-align: middle;\n",
       "    }\n",
       "\n",
       "    .dataframe tbody tr th {\n",
       "        vertical-align: top;\n",
       "    }\n",
       "\n",
       "    .dataframe thead th {\n",
       "        text-align: right;\n",
       "    }\n",
       "</style>\n",
       "<table border=\"1\" class=\"dataframe\">\n",
       "  <thead>\n",
       "    <tr style=\"text-align: right;\">\n",
       "      <th></th>\n",
       "      <th>Hours</th>\n",
       "      <th>Cycles</th>\n",
       "      <th>DeepSleep</th>\n",
       "      <th>Activity date</th>\n",
       "      <th>activity</th>\n",
       "    </tr>\n",
       "  </thead>\n",
       "  <tbody>\n",
       "    <tr>\n",
       "      <th>0</th>\n",
       "      <td>6.83</td>\n",
       "      <td>12.0</td>\n",
       "      <td>0.566265</td>\n",
       "      <td>2021-03-29</td>\n",
       "      <td>0.0</td>\n",
       "    </tr>\n",
       "    <tr>\n",
       "      <th>1</th>\n",
       "      <td>8.54</td>\n",
       "      <td>14.0</td>\n",
       "      <td>0.582524</td>\n",
       "      <td>2021-03-28</td>\n",
       "      <td>0.0</td>\n",
       "    </tr>\n",
       "    <tr>\n",
       "      <th>2</th>\n",
       "      <td>7.19</td>\n",
       "      <td>15.0</td>\n",
       "      <td>0.627907</td>\n",
       "      <td>2021-03-27</td>\n",
       "      <td>0.0</td>\n",
       "    </tr>\n",
       "  </tbody>\n",
       "</table>\n",
       "</div>"
      ],
      "text/plain": [
       "   Hours  Cycles  DeepSleep Activity date  activity\n",
       "0   6.83    12.0   0.566265    2021-03-29       0.0\n",
       "1   8.54    14.0   0.582524    2021-03-28       0.0\n",
       "2   7.19    15.0   0.627907    2021-03-27       0.0"
      ]
     },
     "execution_count": 133,
     "metadata": {},
     "output_type": "execute_result"
    }
   ],
   "source": [
    "print(no_sport_sleep_df.shape)\n",
    "no_sport_sleep_df.head(3)"
   ]
  },
  {
   "cell_type": "code",
   "execution_count": 134,
   "metadata": {},
   "outputs": [
    {
     "data": {
      "text/html": [
       "<div>\n",
       "<style scoped>\n",
       "    .dataframe tbody tr th:only-of-type {\n",
       "        vertical-align: middle;\n",
       "    }\n",
       "\n",
       "    .dataframe tbody tr th {\n",
       "        vertical-align: top;\n",
       "    }\n",
       "\n",
       "    .dataframe thead th {\n",
       "        text-align: right;\n",
       "    }\n",
       "</style>\n",
       "<table border=\"1\" class=\"dataframe\">\n",
       "  <thead>\n",
       "    <tr style=\"text-align: right;\">\n",
       "      <th></th>\n",
       "      <th>Hours</th>\n",
       "      <th>Cycles</th>\n",
       "      <th>DeepSleep</th>\n",
       "      <th>Activity date</th>\n",
       "      <th>activity</th>\n",
       "    </tr>\n",
       "  </thead>\n",
       "  <tbody>\n",
       "    <tr>\n",
       "      <th>30</th>\n",
       "      <td>8.53</td>\n",
       "      <td>3.0</td>\n",
       "      <td>0.466667</td>\n",
       "      <td>2021-01-28</td>\n",
       "      <td>0.0</td>\n",
       "    </tr>\n",
       "    <tr>\n",
       "      <th>42</th>\n",
       "      <td>7.07</td>\n",
       "      <td>2.0</td>\n",
       "      <td>0.413437</td>\n",
       "      <td>2020-11-04</td>\n",
       "      <td>0.0</td>\n",
       "    </tr>\n",
       "    <tr>\n",
       "      <th>47</th>\n",
       "      <td>8.16</td>\n",
       "      <td>13.0</td>\n",
       "      <td>0.515151</td>\n",
       "      <td>2020-12-02</td>\n",
       "      <td>1.0</td>\n",
       "    </tr>\n",
       "  </tbody>\n",
       "</table>\n",
       "</div>"
      ],
      "text/plain": [
       "    Hours  Cycles  DeepSleep Activity date  activity\n",
       "30   8.53     3.0   0.466667    2021-01-28       0.0\n",
       "42   7.07     2.0   0.413437    2020-11-04       0.0\n",
       "47   8.16    13.0   0.515151    2020-12-02       1.0"
      ]
     },
     "execution_count": 134,
     "metadata": {},
     "output_type": "execute_result"
    }
   ],
   "source": [
    "#make one data set\n",
    "\n",
    "nights_recorded_activity_vs_no_activity=no_sport_sleep_df.append(sport_sleep_df_43_night,ignore_index=True)\n",
    "nights_recorded_activity_vs_no_activity.sample(3)\n"
   ]
  },
  {
   "cell_type": "markdown",
   "metadata": {},
   "source": [
    "### Create the dataset for Activity vs No activity"
   ]
  },
  {
   "cell_type": "code",
   "execution_count": 135,
   "metadata": {},
   "outputs": [],
   "source": [
    "nights_recorded_activity_vs_no_activity.to_csv('nights_recorded_activity_vs_no_activity_balanced.csv')"
   ]
  },
  {
   "cell_type": "markdown",
   "metadata": {},
   "source": [
    "------------------------------------------------------------------------"
   ]
  },
  {
   "cell_type": "markdown",
   "metadata": {},
   "source": [
    "# Preprocessing for Cycle / Deep sleep vs Calories analysis"
   ]
  },
  {
   "cell_type": "code",
   "execution_count": 136,
   "metadata": {},
   "outputs": [],
   "source": [
    "\n",
    "# merge both data set sleep and activity \n",
    "\n",
    "calories=activities.groupby([\"Activity date\"]).sum().rename({\"Activity Name\": \"num_activity\"},axis=1).reset_index()\\\n",
    ".drop(['Relative Effort','Average Speed','Average Heart Rate'],axis=1)\n",
    "sport_sleep_df_cal=calories.merge(sleep_df2,on=['Activity date'])\n",
    "\n",
    "# drop a few columns\n",
    "\n",
    "sport_sleep_df_cal[\"Calories\"]=sport_sleep_df_cal[\"Calories\"].astype(float)\n",
    "sport_sleep_df_cal=sport_sleep_df_cal.drop(['waking_up_time','waking_up_date','bed_time','bed_date','Tz'],axis=1)"
   ]
  },
  {
   "cell_type": "code",
   "execution_count": 137,
   "metadata": {},
   "outputs": [
    {
     "data": {
      "text/html": [
       "<div>\n",
       "<style scoped>\n",
       "    .dataframe tbody tr th:only-of-type {\n",
       "        vertical-align: middle;\n",
       "    }\n",
       "\n",
       "    .dataframe tbody tr th {\n",
       "        vertical-align: top;\n",
       "    }\n",
       "\n",
       "    .dataframe thead th {\n",
       "        text-align: right;\n",
       "    }\n",
       "</style>\n",
       "<table border=\"1\" class=\"dataframe\">\n",
       "  <thead>\n",
       "    <tr style=\"text-align: right;\">\n",
       "      <th></th>\n",
       "      <th>Activity date</th>\n",
       "      <th>Calories</th>\n",
       "    </tr>\n",
       "  </thead>\n",
       "  <tbody>\n",
       "    <tr>\n",
       "      <th>0</th>\n",
       "      <td>2019-11-16</td>\n",
       "      <td>916.590088</td>\n",
       "    </tr>\n",
       "    <tr>\n",
       "      <th>1</th>\n",
       "      <td>2020-03-04</td>\n",
       "      <td>662.000000</td>\n",
       "    </tr>\n",
       "    <tr>\n",
       "      <th>2</th>\n",
       "      <td>2020-03-05</td>\n",
       "      <td>679.000000</td>\n",
       "    </tr>\n",
       "  </tbody>\n",
       "</table>\n",
       "</div>"
      ],
      "text/plain": [
       "  Activity date    Calories\n",
       "0    2019-11-16  916.590088\n",
       "1    2020-03-04  662.000000\n",
       "2    2020-03-05  679.000000"
      ]
     },
     "execution_count": 137,
     "metadata": {},
     "output_type": "execute_result"
    }
   ],
   "source": [
    "calories.head(3)"
   ]
  },
  {
   "cell_type": "code",
   "execution_count": 138,
   "metadata": {},
   "outputs": [
    {
     "data": {
      "text/html": [
       "<div>\n",
       "<style scoped>\n",
       "    .dataframe tbody tr th:only-of-type {\n",
       "        vertical-align: middle;\n",
       "    }\n",
       "\n",
       "    .dataframe tbody tr th {\n",
       "        vertical-align: top;\n",
       "    }\n",
       "\n",
       "    .dataframe thead th {\n",
       "        text-align: right;\n",
       "    }\n",
       "</style>\n",
       "<table border=\"1\" class=\"dataframe\">\n",
       "  <thead>\n",
       "    <tr style=\"text-align: right;\">\n",
       "      <th></th>\n",
       "      <th>Activity date</th>\n",
       "      <th>Calories</th>\n",
       "      <th>Hours</th>\n",
       "      <th>Cycles</th>\n",
       "      <th>DeepSleep</th>\n",
       "    </tr>\n",
       "  </thead>\n",
       "  <tbody>\n",
       "    <tr>\n",
       "      <th>0</th>\n",
       "      <td>2020-11-30</td>\n",
       "      <td>422.0</td>\n",
       "      <td>5.00</td>\n",
       "      <td>2.0</td>\n",
       "      <td>0.375451</td>\n",
       "    </tr>\n",
       "    <tr>\n",
       "      <th>1</th>\n",
       "      <td>2020-12-01</td>\n",
       "      <td>592.0</td>\n",
       "      <td>8.33</td>\n",
       "      <td>15.0</td>\n",
       "      <td>0.465347</td>\n",
       "    </tr>\n",
       "    <tr>\n",
       "      <th>2</th>\n",
       "      <td>2020-12-02</td>\n",
       "      <td>512.0</td>\n",
       "      <td>8.16</td>\n",
       "      <td>13.0</td>\n",
       "      <td>0.515151</td>\n",
       "    </tr>\n",
       "  </tbody>\n",
       "</table>\n",
       "</div>"
      ],
      "text/plain": [
       "  Activity date  Calories  Hours  Cycles  DeepSleep\n",
       "0    2020-11-30     422.0   5.00     2.0   0.375451\n",
       "1    2020-12-01     592.0   8.33    15.0   0.465347\n",
       "2    2020-12-02     512.0   8.16    13.0   0.515151"
      ]
     },
     "execution_count": 138,
     "metadata": {},
     "output_type": "execute_result"
    }
   ],
   "source": [
    "sport_sleep_df_cal.head(3)"
   ]
  },
  {
   "cell_type": "markdown",
   "metadata": {},
   "source": [
    "### Create the dataset for Calories ( Hours,Cycles,DeepSleep)"
   ]
  },
  {
   "cell_type": "code",
   "execution_count": 139,
   "metadata": {},
   "outputs": [],
   "source": [
    "sport_sleep_df_cal.to_csv('calories.csv')"
   ]
  },
  {
   "cell_type": "markdown",
   "metadata": {},
   "source": [
    "----------------------------------------------------"
   ]
  },
  {
   "cell_type": "markdown",
   "metadata": {},
   "source": [
    "# Preprocessing for Hours/ Cycle / Deep sleep vs Moving time "
   ]
  },
  {
   "cell_type": "code",
   "execution_count": 140,
   "metadata": {},
   "outputs": [],
   "source": [
    "#load activity as one table\n",
    "activities = pd.read_csv(\"data/strava/activities_with_gpx.csv\",usecols=['Activity Date', 'Moving Time'])\n",
    "\n",
    "# set the format \n",
    "\n",
    "activities[\"Activity date\"]=pd.to_datetime(activities[\"Activity Date\"],dayfirst=True).dt.date\n",
    "\n",
    "# drop the initial string date\n",
    "activities=activities.drop(columns=[\"Activity Date\"],axis=1)\n",
    "activities['Moving Time']=activities['Moving Time'].astype(float)"
   ]
  },
  {
   "cell_type": "code",
   "execution_count": 141,
   "metadata": {},
   "outputs": [],
   "source": [
    "# get the number of second of sport made in a day \n",
    "moving_time=activities.groupby(['Activity date']).sum().reset_index()"
   ]
  },
  {
   "cell_type": "code",
   "execution_count": 142,
   "metadata": {},
   "outputs": [
    {
     "name": "stdout",
     "output_type": "stream",
     "text": [
      "(228, 2)\n"
     ]
    },
    {
     "data": {
      "text/html": [
       "<div>\n",
       "<style scoped>\n",
       "    .dataframe tbody tr th:only-of-type {\n",
       "        vertical-align: middle;\n",
       "    }\n",
       "\n",
       "    .dataframe tbody tr th {\n",
       "        vertical-align: top;\n",
       "    }\n",
       "\n",
       "    .dataframe thead th {\n",
       "        text-align: right;\n",
       "    }\n",
       "</style>\n",
       "<table border=\"1\" class=\"dataframe\">\n",
       "  <thead>\n",
       "    <tr style=\"text-align: right;\">\n",
       "      <th></th>\n",
       "      <th>Activity date</th>\n",
       "      <th>Moving Time</th>\n",
       "    </tr>\n",
       "  </thead>\n",
       "  <tbody>\n",
       "    <tr>\n",
       "      <th>0</th>\n",
       "      <td>2019-11-16</td>\n",
       "      <td>11956.0</td>\n",
       "    </tr>\n",
       "    <tr>\n",
       "      <th>1</th>\n",
       "      <td>2020-03-04</td>\n",
       "      <td>4298.0</td>\n",
       "    </tr>\n",
       "    <tr>\n",
       "      <th>2</th>\n",
       "      <td>2020-03-05</td>\n",
       "      <td>4631.0</td>\n",
       "    </tr>\n",
       "  </tbody>\n",
       "</table>\n",
       "</div>"
      ],
      "text/plain": [
       "  Activity date  Moving Time\n",
       "0    2019-11-16      11956.0\n",
       "1    2020-03-04       4298.0\n",
       "2    2020-03-05       4631.0"
      ]
     },
     "execution_count": 142,
     "metadata": {},
     "output_type": "execute_result"
    }
   ],
   "source": [
    "print(moving_time.shape)\n",
    "moving_time.head(3)"
   ]
  },
  {
   "cell_type": "code",
   "execution_count": 143,
   "metadata": {},
   "outputs": [
    {
     "data": {
      "text/html": [
       "<div>\n",
       "<style scoped>\n",
       "    .dataframe tbody tr th:only-of-type {\n",
       "        vertical-align: middle;\n",
       "    }\n",
       "\n",
       "    .dataframe tbody tr th {\n",
       "        vertical-align: top;\n",
       "    }\n",
       "\n",
       "    .dataframe thead th {\n",
       "        text-align: right;\n",
       "    }\n",
       "</style>\n",
       "<table border=\"1\" class=\"dataframe\">\n",
       "  <thead>\n",
       "    <tr style=\"text-align: right;\">\n",
       "      <th></th>\n",
       "      <th>Tz</th>\n",
       "      <th>Hours</th>\n",
       "      <th>Cycles</th>\n",
       "      <th>DeepSleep</th>\n",
       "      <th>bed_date</th>\n",
       "      <th>bed_time</th>\n",
       "      <th>waking_up_date</th>\n",
       "      <th>waking_up_time</th>\n",
       "      <th>Activity date</th>\n",
       "    </tr>\n",
       "  </thead>\n",
       "  <tbody>\n",
       "    <tr>\n",
       "      <th>0</th>\n",
       "      <td>Europe/Bucharest</td>\n",
       "      <td>6.83</td>\n",
       "      <td>12.0</td>\n",
       "      <td>0.566265</td>\n",
       "      <td>2021-03-30</td>\n",
       "      <td>02:33:00</td>\n",
       "      <td>2021-03-30</td>\n",
       "      <td>09:23:00</td>\n",
       "      <td>2021-03-29</td>\n",
       "    </tr>\n",
       "    <tr>\n",
       "      <th>2</th>\n",
       "      <td>Europe/Bucharest</td>\n",
       "      <td>8.54</td>\n",
       "      <td>14.0</td>\n",
       "      <td>0.582524</td>\n",
       "      <td>2021-03-29</td>\n",
       "      <td>00:33:00</td>\n",
       "      <td>2021-03-29</td>\n",
       "      <td>09:05:00</td>\n",
       "      <td>2021-03-28</td>\n",
       "    </tr>\n",
       "    <tr>\n",
       "      <th>3</th>\n",
       "      <td>Europe/Bucharest</td>\n",
       "      <td>7.19</td>\n",
       "      <td>15.0</td>\n",
       "      <td>0.627907</td>\n",
       "      <td>2021-03-28</td>\n",
       "      <td>00:43:00</td>\n",
       "      <td>2021-03-28</td>\n",
       "      <td>08:54:00</td>\n",
       "      <td>2021-03-27</td>\n",
       "    </tr>\n",
       "  </tbody>\n",
       "</table>\n",
       "</div>"
      ],
      "text/plain": [
       "                 Tz  Hours  Cycles  DeepSleep    bed_date  bed_time  \\\n",
       "0  Europe/Bucharest   6.83    12.0   0.566265  2021-03-30  02:33:00   \n",
       "2  Europe/Bucharest   8.54    14.0   0.582524  2021-03-29  00:33:00   \n",
       "3  Europe/Bucharest   7.19    15.0   0.627907  2021-03-28  00:43:00   \n",
       "\n",
       "  waking_up_date waking_up_time Activity date  \n",
       "0     2021-03-30       09:23:00    2021-03-29  \n",
       "2     2021-03-29       09:05:00    2021-03-28  \n",
       "3     2021-03-28       08:54:00    2021-03-27  "
      ]
     },
     "execution_count": 143,
     "metadata": {},
     "output_type": "execute_result"
    }
   ],
   "source": [
    "# We reuse the sleep_df2 data set made in the part one of the preprocessing for Sleep Data \n",
    "sleep_df2.head(3)"
   ]
  },
  {
   "cell_type": "code",
   "execution_count": 144,
   "metadata": {},
   "outputs": [],
   "source": [
    "sleep_quality=sleep_df2.drop(['Tz','bed_date','bed_time','bed_time','waking_up_time','waking_up_date'],axis=1)"
   ]
  },
  {
   "cell_type": "code",
   "execution_count": 145,
   "metadata": {},
   "outputs": [],
   "source": [
    "sleep_night_recorded=sleep_quality['Activity date'].unique()"
   ]
  },
  {
   "cell_type": "code",
   "execution_count": 146,
   "metadata": {},
   "outputs": [
    {
     "name": "stdout",
     "output_type": "stream",
     "text": [
      "(77, 2)\n"
     ]
    },
    {
     "data": {
      "text/html": [
       "<div>\n",
       "<style scoped>\n",
       "    .dataframe tbody tr th:only-of-type {\n",
       "        vertical-align: middle;\n",
       "    }\n",
       "\n",
       "    .dataframe tbody tr th {\n",
       "        vertical-align: top;\n",
       "    }\n",
       "\n",
       "    .dataframe thead th {\n",
       "        text-align: right;\n",
       "    }\n",
       "</style>\n",
       "<table border=\"1\" class=\"dataframe\">\n",
       "  <thead>\n",
       "    <tr style=\"text-align: right;\">\n",
       "      <th></th>\n",
       "      <th>Activity date</th>\n",
       "      <th>Moving Time</th>\n",
       "    </tr>\n",
       "  </thead>\n",
       "  <tbody>\n",
       "    <tr>\n",
       "      <th>145</th>\n",
       "      <td>2020-11-30</td>\n",
       "      <td>3025.0</td>\n",
       "    </tr>\n",
       "    <tr>\n",
       "      <th>146</th>\n",
       "      <td>2020-12-01</td>\n",
       "      <td>2939.0</td>\n",
       "    </tr>\n",
       "    <tr>\n",
       "      <th>147</th>\n",
       "      <td>2020-12-02</td>\n",
       "      <td>3251.0</td>\n",
       "    </tr>\n",
       "  </tbody>\n",
       "</table>\n",
       "</div>"
      ],
      "text/plain": [
       "    Activity date  Moving Time\n",
       "145    2020-11-30       3025.0\n",
       "146    2020-12-01       2939.0\n",
       "147    2020-12-02       3251.0"
      ]
     },
     "execution_count": 146,
     "metadata": {},
     "output_type": "execute_result"
    }
   ],
   "source": [
    "# only the record night after a activity \n",
    "nights_after_activity=moving_time.loc[moving_time['Activity date'].isin(sleep_night_recorded)]\n",
    "print(nights_after_activity.shape)\n",
    "nights_after_activity.head(3)\n"
   ]
  },
  {
   "cell_type": "code",
   "execution_count": 147,
   "metadata": {},
   "outputs": [],
   "source": [
    "# merging activity and sleep feature and keeping only the Moving time \n",
    "nights_recorded=sleep_df2.merge(nights_after_activity,on=['Activity date']).drop(['Tz','bed_date','bed_time','bed_time','waking_up_time','waking_up_date'],axis=1)"
   ]
  },
  {
   "cell_type": "code",
   "execution_count": 148,
   "metadata": {},
   "outputs": [
    {
     "data": {
      "text/html": [
       "<div>\n",
       "<style scoped>\n",
       "    .dataframe tbody tr th:only-of-type {\n",
       "        vertical-align: middle;\n",
       "    }\n",
       "\n",
       "    .dataframe tbody tr th {\n",
       "        vertical-align: top;\n",
       "    }\n",
       "\n",
       "    .dataframe thead th {\n",
       "        text-align: right;\n",
       "    }\n",
       "</style>\n",
       "<table border=\"1\" class=\"dataframe\">\n",
       "  <thead>\n",
       "    <tr style=\"text-align: right;\">\n",
       "      <th></th>\n",
       "      <th>Hours</th>\n",
       "      <th>Cycles</th>\n",
       "      <th>DeepSleep</th>\n",
       "      <th>Activity date</th>\n",
       "      <th>Moving Time</th>\n",
       "    </tr>\n",
       "  </thead>\n",
       "  <tbody>\n",
       "    <tr>\n",
       "      <th>0</th>\n",
       "      <td>8.18</td>\n",
       "      <td>3.0</td>\n",
       "      <td>0.321168</td>\n",
       "      <td>2021-03-23</td>\n",
       "      <td>3988.0</td>\n",
       "    </tr>\n",
       "    <tr>\n",
       "      <th>1</th>\n",
       "      <td>8.60</td>\n",
       "      <td>16.0</td>\n",
       "      <td>0.490385</td>\n",
       "      <td>2021-03-22</td>\n",
       "      <td>1983.0</td>\n",
       "    </tr>\n",
       "    <tr>\n",
       "      <th>2</th>\n",
       "      <td>8.71</td>\n",
       "      <td>17.0</td>\n",
       "      <td>0.650943</td>\n",
       "      <td>2021-03-09</td>\n",
       "      <td>1923.0</td>\n",
       "    </tr>\n",
       "  </tbody>\n",
       "</table>\n",
       "</div>"
      ],
      "text/plain": [
       "   Hours  Cycles  DeepSleep Activity date  Moving Time\n",
       "0   8.18     3.0   0.321168    2021-03-23       3988.0\n",
       "1   8.60    16.0   0.490385    2021-03-22       1983.0\n",
       "2   8.71    17.0   0.650943    2021-03-09       1923.0"
      ]
     },
     "execution_count": 148,
     "metadata": {},
     "output_type": "execute_result"
    }
   ],
   "source": [
    "nights_recorded.head(3)"
   ]
  },
  {
   "cell_type": "code",
   "execution_count": 149,
   "metadata": {},
   "outputs": [
    {
     "data": {
      "text/html": [
       "<div>\n",
       "<style scoped>\n",
       "    .dataframe tbody tr th:only-of-type {\n",
       "        vertical-align: middle;\n",
       "    }\n",
       "\n",
       "    .dataframe tbody tr th {\n",
       "        vertical-align: top;\n",
       "    }\n",
       "\n",
       "    .dataframe thead th {\n",
       "        text-align: right;\n",
       "    }\n",
       "</style>\n",
       "<table border=\"1\" class=\"dataframe\">\n",
       "  <thead>\n",
       "    <tr style=\"text-align: right;\">\n",
       "      <th></th>\n",
       "      <th>Hours</th>\n",
       "      <th>Cycles</th>\n",
       "      <th>DeepSleep</th>\n",
       "      <th>Activity date</th>\n",
       "      <th>Moving Time</th>\n",
       "    </tr>\n",
       "  </thead>\n",
       "  <tbody>\n",
       "    <tr>\n",
       "      <th>0</th>\n",
       "      <td>6.83</td>\n",
       "      <td>12.0</td>\n",
       "      <td>0.566265</td>\n",
       "      <td>2021-03-29</td>\n",
       "      <td>0.0</td>\n",
       "    </tr>\n",
       "    <tr>\n",
       "      <th>1</th>\n",
       "      <td>8.54</td>\n",
       "      <td>14.0</td>\n",
       "      <td>0.582524</td>\n",
       "      <td>2021-03-28</td>\n",
       "      <td>0.0</td>\n",
       "    </tr>\n",
       "    <tr>\n",
       "      <th>2</th>\n",
       "      <td>7.19</td>\n",
       "      <td>15.0</td>\n",
       "      <td>0.627907</td>\n",
       "      <td>2021-03-27</td>\n",
       "      <td>0.0</td>\n",
       "    </tr>\n",
       "  </tbody>\n",
       "</table>\n",
       "</div>"
      ],
      "text/plain": [
       "   Hours  Cycles  DeepSleep Activity date  Moving Time\n",
       "0   6.83    12.0   0.566265    2021-03-29          0.0\n",
       "1   8.54    14.0   0.582524    2021-03-28          0.0\n",
       "2   7.19    15.0   0.627907    2021-03-27          0.0"
      ]
     },
     "execution_count": 149,
     "metadata": {},
     "output_type": "execute_result"
    }
   ],
   "source": [
    "# adding the day/night without activity \n",
    "no_sport_sleep_df=no_sport_sleep_df.rename({'activity':'Moving Time'},axis=1)\n",
    "no_sport_sleep_df.head(3)"
   ]
  },
  {
   "cell_type": "code",
   "execution_count": 150,
   "metadata": {},
   "outputs": [],
   "source": [
    "# create one data set\n",
    "nights_recorded=no_sport_sleep_df.append(nights_recorded,ignore_index=True)"
   ]
  },
  {
   "cell_type": "code",
   "execution_count": 151,
   "metadata": {},
   "outputs": [
    {
     "data": {
      "text/html": [
       "<div>\n",
       "<style scoped>\n",
       "    .dataframe tbody tr th:only-of-type {\n",
       "        vertical-align: middle;\n",
       "    }\n",
       "\n",
       "    .dataframe tbody tr th {\n",
       "        vertical-align: top;\n",
       "    }\n",
       "\n",
       "    .dataframe thead th {\n",
       "        text-align: right;\n",
       "    }\n",
       "</style>\n",
       "<table border=\"1\" class=\"dataframe\">\n",
       "  <thead>\n",
       "    <tr style=\"text-align: right;\">\n",
       "      <th></th>\n",
       "      <th>Hours</th>\n",
       "      <th>Cycles</th>\n",
       "      <th>DeepSleep</th>\n",
       "      <th>Activity date</th>\n",
       "      <th>Moving Time</th>\n",
       "    </tr>\n",
       "  </thead>\n",
       "  <tbody>\n",
       "    <tr>\n",
       "      <th>0</th>\n",
       "      <td>6.83</td>\n",
       "      <td>12.0</td>\n",
       "      <td>0.566265</td>\n",
       "      <td>2021-03-29</td>\n",
       "      <td>0.0</td>\n",
       "    </tr>\n",
       "    <tr>\n",
       "      <th>1</th>\n",
       "      <td>8.54</td>\n",
       "      <td>14.0</td>\n",
       "      <td>0.582524</td>\n",
       "      <td>2021-03-28</td>\n",
       "      <td>0.0</td>\n",
       "    </tr>\n",
       "    <tr>\n",
       "      <th>2</th>\n",
       "      <td>7.19</td>\n",
       "      <td>15.0</td>\n",
       "      <td>0.627907</td>\n",
       "      <td>2021-03-27</td>\n",
       "      <td>0.0</td>\n",
       "    </tr>\n",
       "  </tbody>\n",
       "</table>\n",
       "</div>"
      ],
      "text/plain": [
       "   Hours  Cycles  DeepSleep Activity date  Moving Time\n",
       "0   6.83    12.0   0.566265    2021-03-29          0.0\n",
       "1   8.54    14.0   0.582524    2021-03-28          0.0\n",
       "2   7.19    15.0   0.627907    2021-03-27          0.0"
      ]
     },
     "execution_count": 151,
     "metadata": {},
     "output_type": "execute_result"
    }
   ],
   "source": [
    "nights_recorded.head(3)"
   ]
  },
  {
   "cell_type": "markdown",
   "metadata": {},
   "source": [
    "### Create the dataset for Moving times ( Hours,Cycles,DeepSleep)"
   ]
  },
  {
   "cell_type": "code",
   "execution_count": 152,
   "metadata": {},
   "outputs": [],
   "source": [
    "nights_recorded.to_csv('df_sleep_analysis_movingtime.csv')"
   ]
  },
  {
   "cell_type": "markdown",
   "metadata": {},
   "source": [
    "--------------------------------------------------------------------------------------"
   ]
  },
  {
   "cell_type": "markdown",
   "metadata": {},
   "source": [
    "# Average speed"
   ]
  },
  {
   "cell_type": "code",
   "execution_count": 153,
   "metadata": {},
   "outputs": [],
   "source": [
    "speed = pd.read_csv(\"data/strava/activities_with_gpx.csv\",usecols=['Activity Type', 'Average Speed'])"
   ]
  },
  {
   "cell_type": "code",
   "execution_count": 154,
   "metadata": {},
   "outputs": [],
   "source": [
    "speed_grb=speed.groupby(['Activity Type']).mean().drop(['Weight Training','Workout','E-Bike Ride','Virtual Ride'],axis=0)"
   ]
  },
  {
   "cell_type": "code",
   "execution_count": 155,
   "metadata": {},
   "outputs": [
    {
     "data": {
      "text/html": [
       "<div>\n",
       "<style scoped>\n",
       "    .dataframe tbody tr th:only-of-type {\n",
       "        vertical-align: middle;\n",
       "    }\n",
       "\n",
       "    .dataframe tbody tr th {\n",
       "        vertical-align: top;\n",
       "    }\n",
       "\n",
       "    .dataframe thead th {\n",
       "        text-align: right;\n",
       "    }\n",
       "</style>\n",
       "<table border=\"1\" class=\"dataframe\">\n",
       "  <thead>\n",
       "    <tr style=\"text-align: right;\">\n",
       "      <th></th>\n",
       "      <th>Average Speed</th>\n",
       "    </tr>\n",
       "    <tr>\n",
       "      <th>Activity Type</th>\n",
       "      <th></th>\n",
       "    </tr>\n",
       "  </thead>\n",
       "  <tbody>\n",
       "    <tr>\n",
       "      <th>Hike</th>\n",
       "      <td>1.158969</td>\n",
       "    </tr>\n",
       "    <tr>\n",
       "      <th>Ride</th>\n",
       "      <td>4.397185</td>\n",
       "    </tr>\n",
       "    <tr>\n",
       "      <th>Run</th>\n",
       "      <td>2.832024</td>\n",
       "    </tr>\n",
       "  </tbody>\n",
       "</table>\n",
       "</div>"
      ],
      "text/plain": [
       "               Average Speed\n",
       "Activity Type               \n",
       "Hike                1.158969\n",
       "Ride                4.397185\n",
       "Run                 2.832024"
      ]
     },
     "execution_count": 155,
     "metadata": {},
     "output_type": "execute_result"
    }
   ],
   "source": [
    "speed_grb.head(3)\n",
    "# en mettre par seconde selon strava https://developers.strava.com/docs/reference/#api-models-SummaryActivity sous summary activity"
   ]
  },
  {
   "cell_type": "code",
   "execution_count": 156,
   "metadata": {},
   "outputs": [
    {
     "data": {
      "text/html": [
       "<div>\n",
       "<style scoped>\n",
       "    .dataframe tbody tr th:only-of-type {\n",
       "        vertical-align: middle;\n",
       "    }\n",
       "\n",
       "    .dataframe tbody tr th {\n",
       "        vertical-align: top;\n",
       "    }\n",
       "\n",
       "    .dataframe thead th {\n",
       "        text-align: right;\n",
       "    }\n",
       "</style>\n",
       "<table border=\"1\" class=\"dataframe\">\n",
       "  <thead>\n",
       "    <tr style=\"text-align: right;\">\n",
       "      <th></th>\n",
       "      <th>Average Speed</th>\n",
       "    </tr>\n",
       "    <tr>\n",
       "      <th>Activity Type</th>\n",
       "      <th></th>\n",
       "    </tr>\n",
       "  </thead>\n",
       "  <tbody>\n",
       "    <tr>\n",
       "      <th>Hike</th>\n",
       "      <td>4.172289</td>\n",
       "    </tr>\n",
       "    <tr>\n",
       "      <th>Ride</th>\n",
       "      <td>15.829864</td>\n",
       "    </tr>\n",
       "    <tr>\n",
       "      <th>Run</th>\n",
       "      <td>10.195286</td>\n",
       "    </tr>\n",
       "  </tbody>\n",
       "</table>\n",
       "</div>"
      ],
      "text/plain": [
       "               Average Speed\n",
       "Activity Type               \n",
       "Hike                4.172289\n",
       "Ride               15.829864\n",
       "Run                10.195286"
      ]
     },
     "execution_count": 156,
     "metadata": {},
     "output_type": "execute_result"
    }
   ],
   "source": [
    "# in Km/hr\n",
    "speed_grb.head(3)*60*60/1000"
   ]
  },
  {
   "cell_type": "markdown",
   "metadata": {},
   "source": [
    "-------------------------------------------------------------"
   ]
  },
  {
   "cell_type": "markdown",
   "metadata": {},
   "source": [
    "# Motivation Study "
   ]
  },
  {
   "cell_type": "code",
   "execution_count": 157,
   "metadata": {},
   "outputs": [],
   "source": [
    "#load activity as one table\n",
    "activities = pd.read_csv(\"data/strava/activities_with_gpx.csv\",usecols=['Activity Date', 'Activity Name', 'Activity Type','Moving Time'])\n",
    "\n",
    "# set the format \n",
    "\n",
    "activities[\"activity_full_date\"]=pd.to_datetime(activities[\"Activity Date\"],dayfirst=True)\n",
    "activities[\"Activity time\"]=pd.to_datetime(activities[\"Activity Date\"],dayfirst=True).dt.time\n",
    "\n",
    "# drop the initial string date\n",
    "activities=activities.drop(columns=[\"Activity Date\"],axis=1)"
   ]
  },
  {
   "cell_type": "code",
   "execution_count": 158,
   "metadata": {},
   "outputs": [
    {
     "data": {
      "text/plain": [
       "array([datetime.date(2019, 11, 16), datetime.date(2020, 3, 4)],\n",
       "      dtype=object)"
      ]
     },
     "execution_count": 158,
     "metadata": {},
     "output_type": "execute_result"
    }
   ],
   "source": [
    "np.sort(np.array(activities[\"activity_full_date\"].dt.date))[:2]"
   ]
  },
  {
   "cell_type": "code",
   "execution_count": 159,
   "metadata": {},
   "outputs": [
    {
     "data": {
      "text/html": [
       "<div>\n",
       "<style scoped>\n",
       "    .dataframe tbody tr th:only-of-type {\n",
       "        vertical-align: middle;\n",
       "    }\n",
       "\n",
       "    .dataframe tbody tr th {\n",
       "        vertical-align: top;\n",
       "    }\n",
       "\n",
       "    .dataframe thead tr th {\n",
       "        text-align: left;\n",
       "    }\n",
       "\n",
       "    .dataframe thead tr:last-of-type th {\n",
       "        text-align: right;\n",
       "    }\n",
       "</style>\n",
       "<table border=\"1\" class=\"dataframe\">\n",
       "  <thead>\n",
       "    <tr>\n",
       "      <th></th>\n",
       "      <th colspan=\"9\" halign=\"left\">Moving Time</th>\n",
       "    </tr>\n",
       "    <tr>\n",
       "      <th>Activity Type</th>\n",
       "      <th>E-Bike Ride</th>\n",
       "      <th>Hike</th>\n",
       "      <th>Ride</th>\n",
       "      <th>Run</th>\n",
       "      <th>Swim</th>\n",
       "      <th>Virtual Ride</th>\n",
       "      <th>Walk</th>\n",
       "      <th>Weight Training</th>\n",
       "      <th>Workout</th>\n",
       "    </tr>\n",
       "    <tr>\n",
       "      <th>activity_full_date</th>\n",
       "      <th></th>\n",
       "      <th></th>\n",
       "      <th></th>\n",
       "      <th></th>\n",
       "      <th></th>\n",
       "      <th></th>\n",
       "      <th></th>\n",
       "      <th></th>\n",
       "      <th></th>\n",
       "    </tr>\n",
       "  </thead>\n",
       "  <tbody>\n",
       "    <tr>\n",
       "      <th>2019-11-30</th>\n",
       "      <td>0.0</td>\n",
       "      <td>0.0</td>\n",
       "      <td>11956.0</td>\n",
       "      <td>0.0</td>\n",
       "      <td>0.0</td>\n",
       "      <td>0.0</td>\n",
       "      <td>0.0</td>\n",
       "      <td>0.0</td>\n",
       "      <td>0.0</td>\n",
       "    </tr>\n",
       "    <tr>\n",
       "      <th>2020-03-31</th>\n",
       "      <td>0.0</td>\n",
       "      <td>0.0</td>\n",
       "      <td>22080.0</td>\n",
       "      <td>9600.0</td>\n",
       "      <td>15612.0</td>\n",
       "      <td>4837.0</td>\n",
       "      <td>13976.0</td>\n",
       "      <td>21473.0</td>\n",
       "      <td>19842.0</td>\n",
       "    </tr>\n",
       "    <tr>\n",
       "      <th>2020-04-30</th>\n",
       "      <td>0.0</td>\n",
       "      <td>0.0</td>\n",
       "      <td>32389.0</td>\n",
       "      <td>23898.0</td>\n",
       "      <td>0.0</td>\n",
       "      <td>0.0</td>\n",
       "      <td>9718.0</td>\n",
       "      <td>0.0</td>\n",
       "      <td>14273.0</td>\n",
       "    </tr>\n",
       "  </tbody>\n",
       "</table>\n",
       "</div>"
      ],
      "text/plain": [
       "                   Moving Time                                               \\\n",
       "Activity Type      E-Bike Ride Hike     Ride      Run     Swim Virtual Ride   \n",
       "activity_full_date                                                            \n",
       "2019-11-30                 0.0  0.0  11956.0      0.0      0.0          0.0   \n",
       "2020-03-31                 0.0  0.0  22080.0   9600.0  15612.0       4837.0   \n",
       "2020-04-30                 0.0  0.0  32389.0  23898.0      0.0          0.0   \n",
       "\n",
       "                                                      \n",
       "Activity Type          Walk Weight Training  Workout  \n",
       "activity_full_date                                    \n",
       "2019-11-30              0.0             0.0      0.0  \n",
       "2020-03-31          13976.0         21473.0  19842.0  \n",
       "2020-04-30           9718.0             0.0  14273.0  "
      ]
     },
     "execution_count": 159,
     "metadata": {},
     "output_type": "execute_result"
    }
   ],
   "source": [
    "motivation_by_type=activities.groupby([pd.Grouper(key=\"activity_full_date\",freq='1M',origin='2020-03-04'),\"Activity Type\"]).sum()\n",
    "pd_motivationby_type=motivation_by_type.unstack().replace(np.nan, 0)\n",
    "pd_motivationby_type.head(3)"
   ]
  },
  {
   "cell_type": "code",
   "execution_count": 160,
   "metadata": {},
   "outputs": [
    {
     "data": {
      "text/html": [
       "<div>\n",
       "<style scoped>\n",
       "    .dataframe tbody tr th:only-of-type {\n",
       "        vertical-align: middle;\n",
       "    }\n",
       "\n",
       "    .dataframe tbody tr th {\n",
       "        vertical-align: top;\n",
       "    }\n",
       "\n",
       "    .dataframe thead th {\n",
       "        text-align: right;\n",
       "    }\n",
       "</style>\n",
       "<table border=\"1\" class=\"dataframe\">\n",
       "  <thead>\n",
       "    <tr style=\"text-align: right;\">\n",
       "      <th></th>\n",
       "      <th>E-Bike Ride</th>\n",
       "      <th>Hike</th>\n",
       "      <th>Ride</th>\n",
       "      <th>Run</th>\n",
       "      <th>Swim</th>\n",
       "      <th>Virtual Ride</th>\n",
       "      <th>Walk</th>\n",
       "      <th>Weight Training</th>\n",
       "      <th>Workout</th>\n",
       "    </tr>\n",
       "    <tr>\n",
       "      <th>activity_full_date</th>\n",
       "      <th></th>\n",
       "      <th></th>\n",
       "      <th></th>\n",
       "      <th></th>\n",
       "      <th></th>\n",
       "      <th></th>\n",
       "      <th></th>\n",
       "      <th></th>\n",
       "      <th></th>\n",
       "    </tr>\n",
       "  </thead>\n",
       "  <tbody>\n",
       "    <tr>\n",
       "      <th>2019-11-30</th>\n",
       "      <td>0.0</td>\n",
       "      <td>0.0</td>\n",
       "      <td>11956.0</td>\n",
       "      <td>0.0</td>\n",
       "      <td>0.0</td>\n",
       "      <td>0.0</td>\n",
       "      <td>0.0</td>\n",
       "      <td>0.0</td>\n",
       "      <td>0.0</td>\n",
       "    </tr>\n",
       "    <tr>\n",
       "      <th>2020-03-31</th>\n",
       "      <td>0.0</td>\n",
       "      <td>0.0</td>\n",
       "      <td>22080.0</td>\n",
       "      <td>9600.0</td>\n",
       "      <td>15612.0</td>\n",
       "      <td>4837.0</td>\n",
       "      <td>13976.0</td>\n",
       "      <td>21473.0</td>\n",
       "      <td>19842.0</td>\n",
       "    </tr>\n",
       "    <tr>\n",
       "      <th>2020-04-30</th>\n",
       "      <td>0.0</td>\n",
       "      <td>0.0</td>\n",
       "      <td>32389.0</td>\n",
       "      <td>23898.0</td>\n",
       "      <td>0.0</td>\n",
       "      <td>0.0</td>\n",
       "      <td>9718.0</td>\n",
       "      <td>0.0</td>\n",
       "      <td>14273.0</td>\n",
       "    </tr>\n",
       "    <tr>\n",
       "      <th>2020-05-31</th>\n",
       "      <td>0.0</td>\n",
       "      <td>0.0</td>\n",
       "      <td>10880.0</td>\n",
       "      <td>24720.0</td>\n",
       "      <td>0.0</td>\n",
       "      <td>0.0</td>\n",
       "      <td>13928.0</td>\n",
       "      <td>0.0</td>\n",
       "      <td>0.0</td>\n",
       "    </tr>\n",
       "    <tr>\n",
       "      <th>2020-06-30</th>\n",
       "      <td>0.0</td>\n",
       "      <td>10524.0</td>\n",
       "      <td>20126.0</td>\n",
       "      <td>41439.0</td>\n",
       "      <td>8328.0</td>\n",
       "      <td>0.0</td>\n",
       "      <td>5837.0</td>\n",
       "      <td>0.0</td>\n",
       "      <td>0.0</td>\n",
       "    </tr>\n",
       "    <tr>\n",
       "      <th>2020-07-31</th>\n",
       "      <td>0.0</td>\n",
       "      <td>45333.0</td>\n",
       "      <td>24101.0</td>\n",
       "      <td>29827.0</td>\n",
       "      <td>6430.0</td>\n",
       "      <td>0.0</td>\n",
       "      <td>0.0</td>\n",
       "      <td>0.0</td>\n",
       "      <td>11901.0</td>\n",
       "    </tr>\n",
       "    <tr>\n",
       "      <th>2020-08-31</th>\n",
       "      <td>0.0</td>\n",
       "      <td>21557.0</td>\n",
       "      <td>0.0</td>\n",
       "      <td>12838.0</td>\n",
       "      <td>530.0</td>\n",
       "      <td>0.0</td>\n",
       "      <td>0.0</td>\n",
       "      <td>0.0</td>\n",
       "      <td>0.0</td>\n",
       "    </tr>\n",
       "    <tr>\n",
       "      <th>2020-09-30</th>\n",
       "      <td>0.0</td>\n",
       "      <td>0.0</td>\n",
       "      <td>19055.0</td>\n",
       "      <td>9079.0</td>\n",
       "      <td>10104.0</td>\n",
       "      <td>0.0</td>\n",
       "      <td>2209.0</td>\n",
       "      <td>0.0</td>\n",
       "      <td>0.0</td>\n",
       "    </tr>\n",
       "    <tr>\n",
       "      <th>2020-10-31</th>\n",
       "      <td>0.0</td>\n",
       "      <td>0.0</td>\n",
       "      <td>11996.0</td>\n",
       "      <td>11559.0</td>\n",
       "      <td>1969.0</td>\n",
       "      <td>0.0</td>\n",
       "      <td>0.0</td>\n",
       "      <td>0.0</td>\n",
       "      <td>0.0</td>\n",
       "    </tr>\n",
       "    <tr>\n",
       "      <th>2020-11-30</th>\n",
       "      <td>0.0</td>\n",
       "      <td>0.0</td>\n",
       "      <td>3025.0</td>\n",
       "      <td>1917.0</td>\n",
       "      <td>2094.0</td>\n",
       "      <td>0.0</td>\n",
       "      <td>0.0</td>\n",
       "      <td>0.0</td>\n",
       "      <td>0.0</td>\n",
       "    </tr>\n",
       "    <tr>\n",
       "      <th>2020-12-31</th>\n",
       "      <td>6591.0</td>\n",
       "      <td>0.0</td>\n",
       "      <td>35872.0</td>\n",
       "      <td>44089.0</td>\n",
       "      <td>0.0</td>\n",
       "      <td>0.0</td>\n",
       "      <td>0.0</td>\n",
       "      <td>0.0</td>\n",
       "      <td>0.0</td>\n",
       "    </tr>\n",
       "    <tr>\n",
       "      <th>2021-01-31</th>\n",
       "      <td>0.0</td>\n",
       "      <td>1812.0</td>\n",
       "      <td>31292.0</td>\n",
       "      <td>27293.0</td>\n",
       "      <td>0.0</td>\n",
       "      <td>0.0</td>\n",
       "      <td>1387.0</td>\n",
       "      <td>0.0</td>\n",
       "      <td>0.0</td>\n",
       "    </tr>\n",
       "    <tr>\n",
       "      <th>2021-02-28</th>\n",
       "      <td>0.0</td>\n",
       "      <td>8020.0</td>\n",
       "      <td>45117.0</td>\n",
       "      <td>27479.0</td>\n",
       "      <td>0.0</td>\n",
       "      <td>0.0</td>\n",
       "      <td>0.0</td>\n",
       "      <td>0.0</td>\n",
       "      <td>0.0</td>\n",
       "    </tr>\n",
       "    <tr>\n",
       "      <th>2021-03-31</th>\n",
       "      <td>0.0</td>\n",
       "      <td>0.0</td>\n",
       "      <td>0.0</td>\n",
       "      <td>11658.0</td>\n",
       "      <td>0.0</td>\n",
       "      <td>0.0</td>\n",
       "      <td>0.0</td>\n",
       "      <td>0.0</td>\n",
       "      <td>0.0</td>\n",
       "    </tr>\n",
       "    <tr>\n",
       "      <th>2021-04-30</th>\n",
       "      <td>0.0</td>\n",
       "      <td>0.0</td>\n",
       "      <td>0.0</td>\n",
       "      <td>7633.0</td>\n",
       "      <td>0.0</td>\n",
       "      <td>0.0</td>\n",
       "      <td>0.0</td>\n",
       "      <td>0.0</td>\n",
       "      <td>0.0</td>\n",
       "    </tr>\n",
       "  </tbody>\n",
       "</table>\n",
       "</div>"
      ],
      "text/plain": [
       "                    E-Bike Ride     Hike     Ride      Run     Swim  \\\n",
       "activity_full_date                                                    \n",
       "2019-11-30                  0.0      0.0  11956.0      0.0      0.0   \n",
       "2020-03-31                  0.0      0.0  22080.0   9600.0  15612.0   \n",
       "2020-04-30                  0.0      0.0  32389.0  23898.0      0.0   \n",
       "2020-05-31                  0.0      0.0  10880.0  24720.0      0.0   \n",
       "2020-06-30                  0.0  10524.0  20126.0  41439.0   8328.0   \n",
       "2020-07-31                  0.0  45333.0  24101.0  29827.0   6430.0   \n",
       "2020-08-31                  0.0  21557.0      0.0  12838.0    530.0   \n",
       "2020-09-30                  0.0      0.0  19055.0   9079.0  10104.0   \n",
       "2020-10-31                  0.0      0.0  11996.0  11559.0   1969.0   \n",
       "2020-11-30                  0.0      0.0   3025.0   1917.0   2094.0   \n",
       "2020-12-31               6591.0      0.0  35872.0  44089.0      0.0   \n",
       "2021-01-31                  0.0   1812.0  31292.0  27293.0      0.0   \n",
       "2021-02-28                  0.0   8020.0  45117.0  27479.0      0.0   \n",
       "2021-03-31                  0.0      0.0      0.0  11658.0      0.0   \n",
       "2021-04-30                  0.0      0.0      0.0   7633.0      0.0   \n",
       "\n",
       "                    Virtual Ride     Walk  Weight Training  Workout  \n",
       "activity_full_date                                                   \n",
       "2019-11-30                   0.0      0.0              0.0      0.0  \n",
       "2020-03-31                4837.0  13976.0          21473.0  19842.0  \n",
       "2020-04-30                   0.0   9718.0              0.0  14273.0  \n",
       "2020-05-31                   0.0  13928.0              0.0      0.0  \n",
       "2020-06-30                   0.0   5837.0              0.0      0.0  \n",
       "2020-07-31                   0.0      0.0              0.0  11901.0  \n",
       "2020-08-31                   0.0      0.0              0.0      0.0  \n",
       "2020-09-30                   0.0   2209.0              0.0      0.0  \n",
       "2020-10-31                   0.0      0.0              0.0      0.0  \n",
       "2020-11-30                   0.0      0.0              0.0      0.0  \n",
       "2020-12-31                   0.0      0.0              0.0      0.0  \n",
       "2021-01-31                   0.0   1387.0              0.0      0.0  \n",
       "2021-02-28                   0.0      0.0              0.0      0.0  \n",
       "2021-03-31                   0.0      0.0              0.0      0.0  \n",
       "2021-04-30                   0.0      0.0              0.0      0.0  "
      ]
     },
     "execution_count": 160,
     "metadata": {},
     "output_type": "execute_result"
    }
   ],
   "source": [
    "# putting out the movingtime label and taking only the columns \n",
    "legend=[]\n",
    "for i in pd_motivationby_type.columns:\n",
    "    legend.append(i[1])\n",
    "legend\n",
    "pd_motivationby_type.columns=legend\n",
    "pd_motivationby_type"
   ]
  },
  {
   "cell_type": "code",
   "execution_count": 161,
   "metadata": {},
   "outputs": [],
   "source": [
    "# drop the data from 2019\n",
    "pd_motivationby_type_=pd_motivationby_type.iloc[1:,:]\n"
   ]
  },
  {
   "cell_type": "code",
   "execution_count": 162,
   "metadata": {},
   "outputs": [
    {
     "data": {
      "text/html": [
       "<div>\n",
       "<style scoped>\n",
       "    .dataframe tbody tr th:only-of-type {\n",
       "        vertical-align: middle;\n",
       "    }\n",
       "\n",
       "    .dataframe tbody tr th {\n",
       "        vertical-align: top;\n",
       "    }\n",
       "\n",
       "    .dataframe thead th {\n",
       "        text-align: right;\n",
       "    }\n",
       "</style>\n",
       "<table border=\"1\" class=\"dataframe\">\n",
       "  <thead>\n",
       "    <tr style=\"text-align: right;\">\n",
       "      <th></th>\n",
       "      <th>E-Bike Ride</th>\n",
       "      <th>Hike</th>\n",
       "      <th>Ride</th>\n",
       "      <th>Run</th>\n",
       "      <th>Swim</th>\n",
       "      <th>Walk</th>\n",
       "      <th>Weight Training</th>\n",
       "      <th>Workout</th>\n",
       "    </tr>\n",
       "    <tr>\n",
       "      <th>activity_full_date</th>\n",
       "      <th></th>\n",
       "      <th></th>\n",
       "      <th></th>\n",
       "      <th></th>\n",
       "      <th></th>\n",
       "      <th></th>\n",
       "      <th></th>\n",
       "      <th></th>\n",
       "    </tr>\n",
       "  </thead>\n",
       "  <tbody>\n",
       "    <tr>\n",
       "      <th>2020-03-31</th>\n",
       "      <td>0.0</td>\n",
       "      <td>0.0</td>\n",
       "      <td>22080.0</td>\n",
       "      <td>9600.0</td>\n",
       "      <td>15612.0</td>\n",
       "      <td>13976.0</td>\n",
       "      <td>21473.0</td>\n",
       "      <td>19842.0</td>\n",
       "    </tr>\n",
       "    <tr>\n",
       "      <th>2020-04-30</th>\n",
       "      <td>0.0</td>\n",
       "      <td>0.0</td>\n",
       "      <td>32389.0</td>\n",
       "      <td>23898.0</td>\n",
       "      <td>0.0</td>\n",
       "      <td>9718.0</td>\n",
       "      <td>0.0</td>\n",
       "      <td>14273.0</td>\n",
       "    </tr>\n",
       "    <tr>\n",
       "      <th>2020-05-31</th>\n",
       "      <td>0.0</td>\n",
       "      <td>0.0</td>\n",
       "      <td>10880.0</td>\n",
       "      <td>24720.0</td>\n",
       "      <td>0.0</td>\n",
       "      <td>13928.0</td>\n",
       "      <td>0.0</td>\n",
       "      <td>0.0</td>\n",
       "    </tr>\n",
       "    <tr>\n",
       "      <th>2020-06-30</th>\n",
       "      <td>0.0</td>\n",
       "      <td>10524.0</td>\n",
       "      <td>20126.0</td>\n",
       "      <td>41439.0</td>\n",
       "      <td>8328.0</td>\n",
       "      <td>5837.0</td>\n",
       "      <td>0.0</td>\n",
       "      <td>0.0</td>\n",
       "    </tr>\n",
       "    <tr>\n",
       "      <th>2020-07-31</th>\n",
       "      <td>0.0</td>\n",
       "      <td>45333.0</td>\n",
       "      <td>24101.0</td>\n",
       "      <td>29827.0</td>\n",
       "      <td>6430.0</td>\n",
       "      <td>0.0</td>\n",
       "      <td>0.0</td>\n",
       "      <td>11901.0</td>\n",
       "    </tr>\n",
       "    <tr>\n",
       "      <th>2020-08-31</th>\n",
       "      <td>0.0</td>\n",
       "      <td>21557.0</td>\n",
       "      <td>0.0</td>\n",
       "      <td>12838.0</td>\n",
       "      <td>530.0</td>\n",
       "      <td>0.0</td>\n",
       "      <td>0.0</td>\n",
       "      <td>0.0</td>\n",
       "    </tr>\n",
       "    <tr>\n",
       "      <th>2020-09-30</th>\n",
       "      <td>0.0</td>\n",
       "      <td>0.0</td>\n",
       "      <td>19055.0</td>\n",
       "      <td>9079.0</td>\n",
       "      <td>10104.0</td>\n",
       "      <td>2209.0</td>\n",
       "      <td>0.0</td>\n",
       "      <td>0.0</td>\n",
       "    </tr>\n",
       "    <tr>\n",
       "      <th>2020-10-31</th>\n",
       "      <td>0.0</td>\n",
       "      <td>0.0</td>\n",
       "      <td>11996.0</td>\n",
       "      <td>11559.0</td>\n",
       "      <td>1969.0</td>\n",
       "      <td>0.0</td>\n",
       "      <td>0.0</td>\n",
       "      <td>0.0</td>\n",
       "    </tr>\n",
       "    <tr>\n",
       "      <th>2020-11-30</th>\n",
       "      <td>0.0</td>\n",
       "      <td>0.0</td>\n",
       "      <td>3025.0</td>\n",
       "      <td>1917.0</td>\n",
       "      <td>2094.0</td>\n",
       "      <td>0.0</td>\n",
       "      <td>0.0</td>\n",
       "      <td>0.0</td>\n",
       "    </tr>\n",
       "    <tr>\n",
       "      <th>2020-12-31</th>\n",
       "      <td>6591.0</td>\n",
       "      <td>0.0</td>\n",
       "      <td>35872.0</td>\n",
       "      <td>44089.0</td>\n",
       "      <td>0.0</td>\n",
       "      <td>0.0</td>\n",
       "      <td>0.0</td>\n",
       "      <td>0.0</td>\n",
       "    </tr>\n",
       "    <tr>\n",
       "      <th>2021-01-31</th>\n",
       "      <td>0.0</td>\n",
       "      <td>1812.0</td>\n",
       "      <td>31292.0</td>\n",
       "      <td>27293.0</td>\n",
       "      <td>0.0</td>\n",
       "      <td>1387.0</td>\n",
       "      <td>0.0</td>\n",
       "      <td>0.0</td>\n",
       "    </tr>\n",
       "    <tr>\n",
       "      <th>2021-02-28</th>\n",
       "      <td>0.0</td>\n",
       "      <td>8020.0</td>\n",
       "      <td>45117.0</td>\n",
       "      <td>27479.0</td>\n",
       "      <td>0.0</td>\n",
       "      <td>0.0</td>\n",
       "      <td>0.0</td>\n",
       "      <td>0.0</td>\n",
       "    </tr>\n",
       "    <tr>\n",
       "      <th>2021-03-31</th>\n",
       "      <td>0.0</td>\n",
       "      <td>0.0</td>\n",
       "      <td>0.0</td>\n",
       "      <td>11658.0</td>\n",
       "      <td>0.0</td>\n",
       "      <td>0.0</td>\n",
       "      <td>0.0</td>\n",
       "      <td>0.0</td>\n",
       "    </tr>\n",
       "    <tr>\n",
       "      <th>2021-04-30</th>\n",
       "      <td>0.0</td>\n",
       "      <td>0.0</td>\n",
       "      <td>0.0</td>\n",
       "      <td>7633.0</td>\n",
       "      <td>0.0</td>\n",
       "      <td>0.0</td>\n",
       "      <td>0.0</td>\n",
       "      <td>0.0</td>\n",
       "    </tr>\n",
       "  </tbody>\n",
       "</table>\n",
       "</div>"
      ],
      "text/plain": [
       "                    E-Bike Ride     Hike     Ride      Run     Swim     Walk  \\\n",
       "activity_full_date                                                             \n",
       "2020-03-31                  0.0      0.0  22080.0   9600.0  15612.0  13976.0   \n",
       "2020-04-30                  0.0      0.0  32389.0  23898.0      0.0   9718.0   \n",
       "2020-05-31                  0.0      0.0  10880.0  24720.0      0.0  13928.0   \n",
       "2020-06-30                  0.0  10524.0  20126.0  41439.0   8328.0   5837.0   \n",
       "2020-07-31                  0.0  45333.0  24101.0  29827.0   6430.0      0.0   \n",
       "2020-08-31                  0.0  21557.0      0.0  12838.0    530.0      0.0   \n",
       "2020-09-30                  0.0      0.0  19055.0   9079.0  10104.0   2209.0   \n",
       "2020-10-31                  0.0      0.0  11996.0  11559.0   1969.0      0.0   \n",
       "2020-11-30                  0.0      0.0   3025.0   1917.0   2094.0      0.0   \n",
       "2020-12-31               6591.0      0.0  35872.0  44089.0      0.0      0.0   \n",
       "2021-01-31                  0.0   1812.0  31292.0  27293.0      0.0   1387.0   \n",
       "2021-02-28                  0.0   8020.0  45117.0  27479.0      0.0      0.0   \n",
       "2021-03-31                  0.0      0.0      0.0  11658.0      0.0      0.0   \n",
       "2021-04-30                  0.0      0.0      0.0   7633.0      0.0      0.0   \n",
       "\n",
       "                    Weight Training  Workout  \n",
       "activity_full_date                            \n",
       "2020-03-31                  21473.0  19842.0  \n",
       "2020-04-30                      0.0  14273.0  \n",
       "2020-05-31                      0.0      0.0  \n",
       "2020-06-30                      0.0      0.0  \n",
       "2020-07-31                      0.0  11901.0  \n",
       "2020-08-31                      0.0      0.0  \n",
       "2020-09-30                      0.0      0.0  \n",
       "2020-10-31                      0.0      0.0  \n",
       "2020-11-30                      0.0      0.0  \n",
       "2020-12-31                      0.0      0.0  \n",
       "2021-01-31                      0.0      0.0  \n",
       "2021-02-28                      0.0      0.0  \n",
       "2021-03-31                      0.0      0.0  \n",
       "2021-04-30                      0.0      0.0  "
      ]
     },
     "execution_count": 162,
     "metadata": {},
     "output_type": "execute_result"
    }
   ],
   "source": [
    "# drop virtual Ride because its too small\n",
    "pd_motivationby_type_=pd_motivationby_type_.drop([\"Virtual Ride\"],axis=1)\n",
    "pd_motivationby_type_"
   ]
  },
  {
   "cell_type": "code",
   "execution_count": 163,
   "metadata": {},
   "outputs": [
    {
     "data": {
      "text/plain": [
       "E-Bike Ride          6591.0\n",
       "Hike                87246.0\n",
       "Ride               255933.0\n",
       "Run                283029.0\n",
       "Swim                45067.0\n",
       "Walk                47055.0\n",
       "Weight Training     21473.0\n",
       "Workout             46016.0\n",
       "dtype: float64"
      ]
     },
     "execution_count": 163,
     "metadata": {},
     "output_type": "execute_result"
    }
   ],
   "source": [
    "# get the sum of each ride\n",
    "np.sum(pd_motivationby_type_,axis=0)"
   ]
  },
  {
   "cell_type": "code",
   "execution_count": 164,
   "metadata": {},
   "outputs": [],
   "source": [
    "# shifting columns name \n",
    "pd_motivationby_type_ = pd_motivationby_type_[['E-Bike Ride','Weight Training','Swim','Workout','Walk','Hike','Ride','Run']]"
   ]
  },
  {
   "cell_type": "code",
   "execution_count": 165,
   "metadata": {},
   "outputs": [],
   "source": [
    "# rename them for a better view on the graph \n",
    "pd_motivationby_type_=pd_motivationby_type_.rename({\"E-Bike Ride\":\"E-Bike\",\"Weight Training\":\"Weight_Training\",\"Ride\":\"Bike\"},axis=1)\n"
   ]
  },
  {
   "cell_type": "code",
   "execution_count": 166,
   "metadata": {},
   "outputs": [],
   "source": [
    "#hr\n",
    "pd_motivationby_type_HR=pd_motivationby_type_/60/60"
   ]
  },
  {
   "cell_type": "markdown",
   "metadata": {},
   "source": [
    "### Create the dataset for Motivation to be able to make a stacked graph in D3."
   ]
  },
  {
   "cell_type": "code",
   "execution_count": 167,
   "metadata": {},
   "outputs": [],
   "source": [
    "pd_motivationby_type_HR.to_csv('motivation_by_type.csv')"
   ]
  },
  {
   "cell_type": "code",
   "execution_count": 168,
   "metadata": {},
   "outputs": [
    {
     "data": {
      "text/plain": [
       "<matplotlib.legend.Legend at 0x1524d46eb50>"
      ]
     },
     "execution_count": 168,
     "metadata": {},
     "output_type": "execute_result"
    },
    {
     "data": {
      "image/png": "[encoded data removed]",
      "text/plain": [
       "<Figure size 432x288 with 1 Axes>"
      ]
     },
     "metadata": {},
     "output_type": "display_data"
    }
   ],
   "source": [
    "pd_motivationby_type_.plot()\n",
    "plt.legend(legend,loc=(1.3,0))"
   ]
  },
  {
   "cell_type": "code",
   "execution_count": 169,
   "metadata": {},
   "outputs": [],
   "source": [
    "# quick view on how is it if stacked\n",
    "motivation_test=activities.groupby([pd.Grouper(key=\"activity_full_date\",freq='1M',origin='2020-03-04')]).sum()\n",
    "motivation_test=motivation_test.drop(motivation_test.index[:5],axis=0)\n",
    "# in hr\n",
    "motivation_test=motivation_test/3600"
   ]
  },
  {
   "cell_type": "code",
   "execution_count": 170,
   "metadata": {},
   "outputs": [
    {
     "data": {
      "text/plain": [
       "<AxesSubplot:xlabel='activity_full_date'>"
      ]
     },
     "execution_count": 170,
     "metadata": {},
     "output_type": "execute_result"
    },
    {
     "data": {
      "image/png": "[encoded data removed]",
      "text/plain": [
       "<Figure size 432x288 with 1 Axes>"
      ]
     },
     "metadata": {},
     "output_type": "display_data"
    }
   ],
   "source": [
    "motivation_test.plot()"
   ]
  },
  {
   "cell_type": "markdown",
   "metadata": {},
   "source": [
    "------------------------------------"
   ]
  },
  {
   "cell_type": "markdown",
   "metadata": {},
   "source": [
    "# Athletes Type"
   ]
  },
  {
   "cell_type": "code",
   "execution_count": 185,
   "metadata": {},
   "outputs": [],
   "source": [
    "#summer,spring ---> \n",
    "summer_spring=pd_motivationby_type.iloc[2:8,:]\n",
    "\n",
    "#fall,winter --->\n",
    "fall_winter=pd_motivationby_type.drop(summer_spring.index,axis=0)"
   ]
  },
  {
   "cell_type": "markdown",
   "metadata": {},
   "source": [
    "## Summer and Spring"
   ]
  },
  {
   "cell_type": "code",
   "execution_count": 186,
   "metadata": {},
   "outputs": [
    {
     "data": {
      "text/html": [
       "<div>\n",
       "<style scoped>\n",
       "    .dataframe tbody tr th:only-of-type {\n",
       "        vertical-align: middle;\n",
       "    }\n",
       "\n",
       "    .dataframe tbody tr th {\n",
       "        vertical-align: top;\n",
       "    }\n",
       "\n",
       "    .dataframe thead th {\n",
       "        text-align: right;\n",
       "    }\n",
       "</style>\n",
       "<table border=\"1\" class=\"dataframe\">\n",
       "  <thead>\n",
       "    <tr style=\"text-align: right;\">\n",
       "      <th></th>\n",
       "      <th>E-Bike Ride</th>\n",
       "      <th>Hike</th>\n",
       "      <th>Ride</th>\n",
       "      <th>Run</th>\n",
       "      <th>Swim</th>\n",
       "      <th>Virtual Ride</th>\n",
       "      <th>Walk</th>\n",
       "      <th>Weight Training</th>\n",
       "      <th>Workout</th>\n",
       "    </tr>\n",
       "    <tr>\n",
       "      <th>activity_full_date</th>\n",
       "      <th></th>\n",
       "      <th></th>\n",
       "      <th></th>\n",
       "      <th></th>\n",
       "      <th></th>\n",
       "      <th></th>\n",
       "      <th></th>\n",
       "      <th></th>\n",
       "      <th></th>\n",
       "    </tr>\n",
       "  </thead>\n",
       "  <tbody>\n",
       "    <tr>\n",
       "      <th>2020-04-30</th>\n",
       "      <td>0.0</td>\n",
       "      <td>0.0</td>\n",
       "      <td>32389.0</td>\n",
       "      <td>23898.0</td>\n",
       "      <td>0.0</td>\n",
       "      <td>0.0</td>\n",
       "      <td>9718.0</td>\n",
       "      <td>0.0</td>\n",
       "      <td>14273.0</td>\n",
       "    </tr>\n",
       "    <tr>\n",
       "      <th>2020-05-31</th>\n",
       "      <td>0.0</td>\n",
       "      <td>0.0</td>\n",
       "      <td>10880.0</td>\n",
       "      <td>24720.0</td>\n",
       "      <td>0.0</td>\n",
       "      <td>0.0</td>\n",
       "      <td>13928.0</td>\n",
       "      <td>0.0</td>\n",
       "      <td>0.0</td>\n",
       "    </tr>\n",
       "    <tr>\n",
       "      <th>2020-06-30</th>\n",
       "      <td>0.0</td>\n",
       "      <td>10524.0</td>\n",
       "      <td>20126.0</td>\n",
       "      <td>41439.0</td>\n",
       "      <td>8328.0</td>\n",
       "      <td>0.0</td>\n",
       "      <td>5837.0</td>\n",
       "      <td>0.0</td>\n",
       "      <td>0.0</td>\n",
       "    </tr>\n",
       "    <tr>\n",
       "      <th>2020-07-31</th>\n",
       "      <td>0.0</td>\n",
       "      <td>45333.0</td>\n",
       "      <td>24101.0</td>\n",
       "      <td>29827.0</td>\n",
       "      <td>6430.0</td>\n",
       "      <td>0.0</td>\n",
       "      <td>0.0</td>\n",
       "      <td>0.0</td>\n",
       "      <td>11901.0</td>\n",
       "    </tr>\n",
       "    <tr>\n",
       "      <th>2020-08-31</th>\n",
       "      <td>0.0</td>\n",
       "      <td>21557.0</td>\n",
       "      <td>0.0</td>\n",
       "      <td>12838.0</td>\n",
       "      <td>530.0</td>\n",
       "      <td>0.0</td>\n",
       "      <td>0.0</td>\n",
       "      <td>0.0</td>\n",
       "      <td>0.0</td>\n",
       "    </tr>\n",
       "    <tr>\n",
       "      <th>2020-09-30</th>\n",
       "      <td>0.0</td>\n",
       "      <td>0.0</td>\n",
       "      <td>19055.0</td>\n",
       "      <td>9079.0</td>\n",
       "      <td>10104.0</td>\n",
       "      <td>0.0</td>\n",
       "      <td>2209.0</td>\n",
       "      <td>0.0</td>\n",
       "      <td>0.0</td>\n",
       "    </tr>\n",
       "  </tbody>\n",
       "</table>\n",
       "</div>"
      ],
      "text/plain": [
       "                    E-Bike Ride     Hike     Ride      Run     Swim  \\\n",
       "activity_full_date                                                    \n",
       "2020-04-30                  0.0      0.0  32389.0  23898.0      0.0   \n",
       "2020-05-31                  0.0      0.0  10880.0  24720.0      0.0   \n",
       "2020-06-30                  0.0  10524.0  20126.0  41439.0   8328.0   \n",
       "2020-07-31                  0.0  45333.0  24101.0  29827.0   6430.0   \n",
       "2020-08-31                  0.0  21557.0      0.0  12838.0    530.0   \n",
       "2020-09-30                  0.0      0.0  19055.0   9079.0  10104.0   \n",
       "\n",
       "                    Virtual Ride     Walk  Weight Training  Workout  \n",
       "activity_full_date                                                   \n",
       "2020-04-30                   0.0   9718.0              0.0  14273.0  \n",
       "2020-05-31                   0.0  13928.0              0.0      0.0  \n",
       "2020-06-30                   0.0   5837.0              0.0      0.0  \n",
       "2020-07-31                   0.0      0.0              0.0  11901.0  \n",
       "2020-08-31                   0.0      0.0              0.0      0.0  \n",
       "2020-09-30                   0.0   2209.0              0.0      0.0  "
      ]
     },
     "execution_count": 186,
     "metadata": {},
     "output_type": "execute_result"
    }
   ],
   "source": [
    "summer_spring"
   ]
  },
  {
   "cell_type": "code",
   "execution_count": 187,
   "metadata": {},
   "outputs": [
    {
     "data": {
      "text/plain": [
       "E-Bike Ride             0.0\n",
       "Hike                77414.0\n",
       "Ride               106551.0\n",
       "Run                141801.0\n",
       "Swim                25392.0\n",
       "Virtual Ride            0.0\n",
       "Walk                31692.0\n",
       "Weight Training         0.0\n",
       "Workout             26174.0\n",
       "dtype: float64"
      ]
     },
     "execution_count": 187,
     "metadata": {},
     "output_type": "execute_result"
    }
   ],
   "source": [
    "sum_by_type_summer=np.sum(summer_spring,axis=0)\n",
    "sum_by_type_summer"
   ]
  },
  {
   "cell_type": "markdown",
   "metadata": {},
   "source": [
    "**In %**"
   ]
  },
  {
   "cell_type": "code",
   "execution_count": 182,
   "metadata": {},
   "outputs": [
    {
     "data": {
      "text/plain": [
       "E-Bike Ride        0.000000\n",
       "Hike               0.189265\n",
       "Ride               0.260501\n",
       "Run                0.346681\n",
       "Swim               0.062079\n",
       "Virtual Ride       0.000000\n",
       "Walk               0.077482\n",
       "Weight Training    0.000000\n",
       "Workout            0.063991\n",
       "dtype: float64"
      ]
     },
     "execution_count": 182,
     "metadata": {},
     "output_type": "execute_result"
    }
   ],
   "source": [
    "sum_by_type_summer/np.sum(sum_by_type_summer)"
   ]
  },
  {
   "cell_type": "markdown",
   "metadata": {},
   "source": [
    "## Fall and Winter"
   ]
  },
  {
   "cell_type": "code",
   "execution_count": 183,
   "metadata": {},
   "outputs": [
    {
     "data": {
      "text/plain": [
       "E-Bike Ride          6591.0\n",
       "Hike                 9832.0\n",
       "Ride               161338.0\n",
       "Run                141228.0\n",
       "Swim                19675.0\n",
       "Virtual Ride         4837.0\n",
       "Walk                15363.0\n",
       "Weight Training     21473.0\n",
       "Workout             19842.0\n",
       "dtype: float64"
      ]
     },
     "execution_count": 183,
     "metadata": {},
     "output_type": "execute_result"
    }
   ],
   "source": [
    "sum_by_type_winter=np.sum(fall_winter,axis=0)\n",
    "sum_by_type_winter"
   ]
  },
  {
   "cell_type": "code",
   "execution_count": 184,
   "metadata": {},
   "outputs": [
    {
     "data": {
      "text/plain": [
       "E-Bike Ride        0.016470\n",
       "Hike               0.024569\n",
       "Ride               0.403165\n",
       "Run                0.352912\n",
       "Swim               0.049165\n",
       "Virtual Ride       0.012087\n",
       "Walk               0.038390\n",
       "Weight Training    0.053658\n",
       "Workout            0.049583\n",
       "dtype: float64"
      ]
     },
     "execution_count": 184,
     "metadata": {},
     "output_type": "execute_result"
    }
   ],
   "source": [
    "sum_by_type_winter/np.sum(sum_by_type_winter)"
   ]
  },
  {
   "cell_type": "markdown",
   "metadata": {},
   "source": [
    "----------------------------------------------------"
   ]
  }
 ],
 "metadata": {
  "kernelspec": {
   "display_name": "Python 3",
   "language": "python",
   "name": "python3"
  },
  "language_info": {
   "codemirror_mode": {
    "name": "ipython",
    "version": 3
   },
   "file_extension": ".py",
   "mimetype": "text/x-python",
   "name": "python",
   "nbconvert_exporter": "python",
   "pygments_lexer": "ipython3",
   "version": "3.8.5"
  }
 },
 "nbformat": 4,
 "nbformat_minor": 4
}
